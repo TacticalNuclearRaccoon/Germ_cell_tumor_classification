{
  "cells": [
    {
      "cell_type": "markdown",
      "metadata": {
        "id": "EyHwM6vqNJZa"
      },
      "source": [
        "##Installing and loading libraries"
      ]
    },
    {
      "cell_type": "code",
      "execution_count": 1,
      "metadata": {
        "colab": {
          "base_uri": "https://localhost:8080/"
        },
        "id": "JelAtvF1NIsm",
        "outputId": "09ddedec-73a3-4a14-fe11-b6626459da0a"
      },
      "outputs": [
        {
          "output_type": "stream",
          "name": "stdout",
          "text": [
            "Wed Jun  1 06:35:02 2022       \n",
            "+-----------------------------------------------------------------------------+\n",
            "| NVIDIA-SMI 460.32.03    Driver Version: 460.32.03    CUDA Version: 11.2     |\n",
            "|-------------------------------+----------------------+----------------------+\n",
            "| GPU  Name        Persistence-M| Bus-Id        Disp.A | Volatile Uncorr. ECC |\n",
            "| Fan  Temp  Perf  Pwr:Usage/Cap|         Memory-Usage | GPU-Util  Compute M. |\n",
            "|                               |                      |               MIG M. |\n",
            "|===============================+======================+======================|\n",
            "|   0  Tesla P100-PCIE...  Off  | 00000000:00:04.0 Off |                    0 |\n",
            "| N/A   37C    P0    26W / 250W |      0MiB / 16280MiB |      0%      Default |\n",
            "|                               |                      |                  N/A |\n",
            "+-------------------------------+----------------------+----------------------+\n",
            "                                                                               \n",
            "+-----------------------------------------------------------------------------+\n",
            "| Processes:                                                                  |\n",
            "|  GPU   GI   CI        PID   Type   Process name                  GPU Memory |\n",
            "|        ID   ID                                                   Usage      |\n",
            "|=============================================================================|\n",
            "|  No running processes found                                                 |\n",
            "+-----------------------------------------------------------------------------+\n"
          ]
        }
      ],
      "source": [
        "gpu_info = !nvidia-smi\n",
        "gpu_info = '\\n'.join(gpu_info)\n",
        "if gpu_info.find('failed') >= 0:\n",
        "  print('Not connected to a GPU')\n",
        "else:\n",
        "  print(gpu_info)"
      ]
    },
    {
      "cell_type": "code",
      "execution_count": 2,
      "metadata": {
        "id": "sUNeNf0ENbXB"
      },
      "outputs": [],
      "source": [
        "#tensorboard dev\n",
        "import tensorflow as tf\n",
        "import datetime\n",
        "from tensorboard.plugins.hparams import api as hp"
      ]
    },
    {
      "cell_type": "code",
      "execution_count": 3,
      "metadata": {
        "id": "BK_3FcWkNhnl"
      },
      "outputs": [],
      "source": [
        "import numpy as np\n",
        "import glob2\n",
        "import pandas as pd\n",
        "from sklearn.model_selection import train_test_split\n",
        "import os, shutil\n",
        "import tensorflow as tf\n",
        "import glob2\n",
        "import matplotlib.pyplot as plt \n",
        "import matplotlib.patches as patches\n",
        "from tqdm import tqdm\n",
        "import itertools\n",
        "#import mlflow\n",
        "from sklearn.metrics import cohen_kappa_score\n",
        "\n",
        "import keras\n",
        "from tensorflow.keras.utils import to_categorical\n",
        "\n",
        "import tensorflow as tf\n",
        "from tensorflow.keras.applications.resnet50 import ResNet50\n",
        "\n",
        "from keras.preprocessing.image import load_img, img_to_array\n",
        "from tensorflow.keras.optimizers import Adam, Optimizer\n",
        "from keras.callbacks import *\n",
        "from keras_preprocessing.image import ImageDataGenerator\n",
        "\n",
        "from keras import backend as K\n",
        "from keras.activations import elu\n",
        "\n",
        "from keras.models import Sequential\n",
        "from keras.callbacks import EarlyStopping\n",
        "from keras.callbacks import Callback, ModelCheckpoint, ReduceLROnPlateau\n",
        "from keras.layers import Dense, Conv2D, Flatten, GlobalAveragePooling2D, Dropout, BatchNormalization\n",
        "\n",
        "from PIL import Image\n",
        "import cv2\n",
        "\n",
        "from keras.models import Model\n",
        "from keras.layers import Input, Dropout, Activation, MaxPooling2D, Flatten,GlobalMaxPooling2D"
      ]
    },
    {
      "cell_type": "markdown",
      "metadata": {
        "id": "jMrj7fCENpvP"
      },
      "source": [
        "##Retrieving Data"
      ]
    },
    {
      "cell_type": "code",
      "source": [
        "!rm -r /content/sample_data"
      ],
      "metadata": {
        "id": "pLVDUGqGQ4Gb"
      },
      "execution_count": 4,
      "outputs": []
    },
    {
      "cell_type": "code",
      "execution_count": 5,
      "metadata": {
        "colab": {
          "base_uri": "https://localhost:8080/"
        },
        "id": "f5H_HSFANnsO",
        "outputId": "a8808bb3-ada0-4ec0-c8ce-dac524fe7d47"
      },
      "outputs": [
        {
          "output_type": "stream",
          "name": "stdout",
          "text": [
            "Mounted at /content/gdrive\n"
          ]
        }
      ],
      "source": [
        "#mounting google drive\n",
        "from google.colab import drive\n",
        "drive.mount('/content/gdrive')"
      ]
    },
    {
      "cell_type": "code",
      "source": [
        "weird_images = ['ID11','ID12','ID14','ID23','ID24','ID27','ID30','ID33','ID44','ID50','ID53','ID66','ID78','ID83']\n",
        "\n",
        "for image in weird_images:\n",
        "  shutil.rmtree(f'/content/crops/crop_{image}_L1')\n",
        "  try:\n",
        "    shutil.rmtree(f'/content/crops/crop_{image}_L2')\n",
        "    shutil.rmtree(f'/content/crops/crop_{image}_L3')\n",
        "    shutil.rmtree(f'/content/crops/crop_{image}_L4')\n",
        "    shutil.rmtree(f'/content/crops/crop_{image}_L5')\n",
        "  except:\n",
        "    pass"
      ],
      "metadata": {
        "id": "2rEU63t69XKQ"
      },
      "execution_count": null,
      "outputs": []
    },
    {
      "cell_type": "markdown",
      "metadata": {
        "id": "wu7IdCzJdycy"
      },
      "source": [
        "#Classify pathological & non pathological"
      ]
    },
    {
      "cell_type": "code",
      "execution_count": null,
      "metadata": {
        "id": "WS_obPbWCcFd"
      },
      "outputs": [],
      "source": [
        "nonpatho_patients = ['ID4_L1', 'ID4_L2', 'ID6_L1', 'ID6_L2' 'ID12_L5', 'ID14_L1', 'ID14_L2', 'ID16_L2', 'ID17_L2', \n",
        "                     'ID19_L1', 'ID19_L2', 'ID19_L3', 'ID21_L1', 'ID22_L1', 'ID22_L2','ID22_L3', 'ID24_L1', 'ID26_L1', 'ID28_L1', 'ID28_L2', \n",
        "                     'ID30_L1', 'ID31_L1', 'ID31_L2', 'ID32_L1', 'ID33_L1', 'ID34_L1', 'ID37_L1', 'ID40_L1', 'ID45_L2', 'ID48_L2', 'ID50_L1', \n",
        "                     'ID54_L1', 'ID54_L2', 'ID56_L1', 'ID56_L2', 'ID62_L2', 'ID64_L1', 'ID65_L1', 'ID66_L1', 'ID68_L1', 'ID71_L1', 'ID71_L2', \n",
        "                     'ID71_L3', 'ID71_L4', 'ID72_L1', 'ID78_L1', 'ID80_L1', 'ID82_L1', 'ID83_L1', 'ID85_L1']"
      ]
    },
    {
      "cell_type": "code",
      "source": [
        "for file in glob2.glob('/content/crops/*'):\n",
        "  patientID = file.split('/')[3]\n",
        "  patientID = patientID.lstrip('crop_')\n",
        "  filename = file.split('/')[3]\n",
        "  filename = filename.lstrip('crop_')\n",
        "  if patientID in nonpatho_patients:\n",
        "    shutil.copytree(file, f'/content/nonpatho/{filename}')\n",
        "  else:\n",
        "    shutil.copytree(file, f'/content/patho/{filename}')"
      ],
      "metadata": {
        "id": "Tiz1XJ2LYN2O"
      },
      "execution_count": null,
      "outputs": []
    },
    {
      "cell_type": "code",
      "source": [
        "nonpatho_nodes = glob2.glob('/content/nonpatho/*')\n",
        "patho_nodes = glob2.glob('/content/patho/*')\n",
        "print(f'patho nodes: {len(patho_nodes)},\\nnon patho nodes:{len(nonpatho_nodes)}')"
      ],
      "metadata": {
        "colab": {
          "base_uri": "https://localhost:8080/"
        },
        "id": "HCEKxBwlYSZo",
        "outputId": "929b09c3-04c5-44aa-892a-69ed2b861aa6"
      },
      "execution_count": null,
      "outputs": [
        {
          "output_type": "stream",
          "name": "stdout",
          "text": [
            "patho nodes: 100,\n",
            "non patho nodes:34\n"
          ]
        }
      ]
    },
    {
      "cell_type": "code",
      "source": [
        "!cp /content/gdrive/MyDrive/Donnes_patients/Tumor_diation_512_class.zip /content/\n",
        "!unzip -q /content/Tumor_diation_512_class.zip"
      ],
      "metadata": {
        "id": "m-2pbuog-rNc"
      },
      "execution_count": 105,
      "outputs": []
    },
    {
      "cell_type": "code",
      "source": [
        "!rm -r /content/data\n",
        "!rm -r /content/test_data\n",
        "!rm -r new_data\n",
        "!mkdir new_data\n",
        "!mkdir test_data"
      ],
      "metadata": {
        "id": "RjB3p9OhoWXv"
      },
      "execution_count": 109,
      "outputs": []
    },
    {
      "cell_type": "code",
      "source": [
        "for image in glob2.glob('/content/data/train/patho/*'):\n",
        "  name = image.split('/')[5]\n",
        "  new_name = name.split('.')[0]\n",
        "  shutil.copy(image, f'/content/new_data/{new_name}_class1.png')"
      ],
      "metadata": {
        "id": "t0hTZzQpoWVC"
      },
      "execution_count": 107,
      "outputs": []
    },
    {
      "cell_type": "code",
      "source": [
        "for image in glob2.glob('/content/data/train/nonpatho/*'):\n",
        "  name = image.split('/')[5]\n",
        "  new_name = name.split('.')[0]\n",
        "  shutil.copy(image, f'/content/new_data/{new_name}_class0.png')"
      ],
      "metadata": {
        "id": "2uuDFfNUoWSb"
      },
      "execution_count": 108,
      "outputs": []
    },
    {
      "cell_type": "code",
      "source": [
        "for image in glob2.glob('/content/data/validation/patho/*'):\n",
        "  name = image.split('/')[5]\n",
        "  new_name = name.split('.')[0]\n",
        "  shutil.copy(image, f'/content/new_data/{new_name}_class1.png')\n",
        "\n",
        "for image in glob2.glob('/content/data/validation/nonpatho/*'):\n",
        "  name = image.split('/')[5]\n",
        "  new_name = name.split('.')[0]\n",
        "  shutil.copy(image, f'/content/new_data/{new_name}_class0.png')\n",
        "\n",
        "for image in glob2.glob('/content/data/test/patho/*'):\n",
        "  name = image.split('/')[5]\n",
        "  new_name = name.split('.')[0]\n",
        "  shutil.copy(image, f'/content/test_data/{new_name}_class1.png')\n",
        "\n",
        "for image in glob2.glob('/content/data/test/nonpatho/*'):\n",
        "  name = image.split('/')[5]\n",
        "  new_name = name.split('.')[0]\n",
        "  shutil.copy(image, f'/content/test_data/{new_name}_class0.png')"
      ],
      "metadata": {
        "id": "E3hEBHkIoWPv"
      },
      "execution_count": null,
      "outputs": []
    },
    {
      "cell_type": "code",
      "source": [
        "files = glob2.glob('/content/new_data/*')\n",
        "print(len(files))"
      ],
      "metadata": {
        "colab": {
          "base_uri": "https://localhost:8080/"
        },
        "id": "q9kA1Q2-pwlt",
        "outputId": "b78bd7f3-72e7-4efc-9fd5-710f3e39793d"
      },
      "execution_count": 4,
      "outputs": [
        {
          "output_type": "stream",
          "name": "stdout",
          "text": [
            "3935\n"
          ]
        }
      ]
    },
    {
      "cell_type": "code",
      "source": [
        "test_files = glob2.glob('/content/test_data/*')\n",
        "print(len(test_files))"
      ],
      "metadata": {
        "colab": {
          "base_uri": "https://localhost:8080/"
        },
        "id": "esE2WDMxGgty",
        "outputId": "4385d366-f064-4907-d3fc-5eb06a6de09a"
      },
      "execution_count": 5,
      "outputs": [
        {
          "output_type": "stream",
          "name": "stdout",
          "text": [
            "133\n"
          ]
        }
      ]
    },
    {
      "cell_type": "code",
      "source": [
        "count_patho =0 \n",
        "for file in files:\n",
        "    if file[-5] == '1':\n",
        "        count_patho+=1\n",
        "print(f'patho images: {count_patho}')"
      ],
      "metadata": {
        "colab": {
          "base_uri": "https://localhost:8080/"
        },
        "id": "GiVrpVDloWNU",
        "outputId": "eebe58d2-bd70-4b5b-dcd8-ee76e93e8b11"
      },
      "execution_count": 6,
      "outputs": [
        {
          "output_type": "stream",
          "name": "stdout",
          "text": [
            "patho images: 3145\n"
          ]
        }
      ]
    },
    {
      "cell_type": "code",
      "source": [
        "count =0 \n",
        "for file in files:\n",
        "    if file[-5] == '0':\n",
        "        count+=1\n",
        "print(f'non patho images: {count}')"
      ],
      "metadata": {
        "colab": {
          "base_uri": "https://localhost:8080/"
        },
        "id": "Anu1ZXbtoWKw",
        "outputId": "72c6d7d9-7ee6-464b-eb7e-dfeec8d7ca9b"
      },
      "execution_count": 7,
      "outputs": [
        {
          "output_type": "stream",
          "name": "stdout",
          "text": [
            "non patho images: 790\n"
          ]
        }
      ]
    },
    {
      "cell_type": "code",
      "source": [
        "count_patho =0 \n",
        "for file in test_files:\n",
        "    if file[-5] == '1':\n",
        "        count_patho+=1\n",
        "print(f'test_patho images: {count_patho}')\n",
        "\n",
        "count =0 \n",
        "for file in test_files:\n",
        "    if file[-5] == '0':\n",
        "        count+=1\n",
        "print(f'test_non patho images: {count}')"
      ],
      "metadata": {
        "colab": {
          "base_uri": "https://localhost:8080/"
        },
        "id": "-p5SlYbXGoj8",
        "outputId": "44626d7a-55bf-48c1-d103-94dcbed4a243"
      },
      "execution_count": 8,
      "outputs": [
        {
          "output_type": "stream",
          "name": "stdout",
          "text": [
            "test_patho images: 93\n",
            "test_non patho images: 40\n"
          ]
        }
      ]
    },
    {
      "cell_type": "code",
      "source": [
        "#Handling class imbalance\n",
        "def load_balanced_data(files, size, start_index):\n",
        "    half_size = int(size/2)\n",
        "    count=0\n",
        "    res = []\n",
        "    y = []\n",
        "    for file in files[start_index:]:\n",
        "        if (count!=half_size):\n",
        "            if file[-5] == '1' and file.endswith(\".png\"):\n",
        "                img = load_img(file, target_size = (456,456))\n",
        "                pixels = img_to_array(img)\n",
        "                res.append(pixels)\n",
        "                y.append(1)\n",
        "                count += 1      \n",
        "        else:\n",
        "            break\n",
        "                \n",
        "    for file in files[start_index:]:\n",
        "        if(count!=0):\n",
        "            if(file[-5] == '0'):\n",
        "                img = load_img(file, target_size = (456,456))\n",
        "                pixels = img_to_array(img)\n",
        "                res.append(pixels)\n",
        "                y.append(0)\n",
        "                count -= 1\n",
        "        else:\n",
        "            break\n",
        "    return np.stack(res), y"
      ],
      "metadata": {
        "id": "0lh2oEFSoWIN"
      },
      "execution_count": 11,
      "outputs": []
    },
    {
      "cell_type": "code",
      "source": [
        "X_train2, y_train2 = load_balanced_data(files, 2000,0)"
      ],
      "metadata": {
        "id": "LhYCUJKfoWFk"
      },
      "execution_count": 12,
      "outputs": []
    },
    {
      "cell_type": "code",
      "source": [
        "import seaborn as sns\n",
        "sns.countplot(y_train2)"
      ],
      "metadata": {
        "colab": {
          "base_uri": "https://localhost:8080/",
          "height": 337
        },
        "id": "E3EMyKJSoWDE",
        "outputId": "a940ae9e-8102-4073-bbfb-e6f0979fe10a"
      },
      "execution_count": 13,
      "outputs": [
        {
          "output_type": "stream",
          "name": "stderr",
          "text": [
            "/usr/local/lib/python3.7/dist-packages/seaborn/_decorators.py:43: FutureWarning: Pass the following variable as a keyword arg: x. From version 0.12, the only valid positional argument will be `data`, and passing other arguments without an explicit keyword will result in an error or misinterpretation.\n",
            "  FutureWarning\n"
          ]
        },
        {
          "output_type": "execute_result",
          "data": {
            "text/plain": [
              "<matplotlib.axes._subplots.AxesSubplot at 0x7f5f1bc88310>"
            ]
          },
          "metadata": {},
          "execution_count": 13
        },
        {
          "output_type": "display_data",
          "data": {
            "text/plain": [
              "<Figure size 432x288 with 1 Axes>"
            ],
            "image/png": "[encoded data removed]"
          },
          "metadata": {
            "needs_background": "light"
          }
        }
      ]
    },
    {
      "cell_type": "code",
      "source": [
        "x_test2, y_test2 = load_balanced_data(test_files, 528, 0)"
      ],
      "metadata": {
        "id": "nRBssiRkoWAa"
      },
      "execution_count": 14,
      "outputs": []
    },
    {
      "cell_type": "code",
      "source": [
        "sns.countplot(y_test2)"
      ],
      "metadata": {
        "id": "UTJq_RNnoV9z",
        "colab": {
          "base_uri": "https://localhost:8080/",
          "height": 337
        },
        "outputId": "a98aa4e4-c537-4d0e-e00e-57c69635ba04"
      },
      "execution_count": 15,
      "outputs": [
        {
          "output_type": "stream",
          "name": "stderr",
          "text": [
            "/usr/local/lib/python3.7/dist-packages/seaborn/_decorators.py:43: FutureWarning: Pass the following variable as a keyword arg: x. From version 0.12, the only valid positional argument will be `data`, and passing other arguments without an explicit keyword will result in an error or misinterpretation.\n",
            "  FutureWarning\n"
          ]
        },
        {
          "output_type": "execute_result",
          "data": {
            "text/plain": [
              "<matplotlib.axes._subplots.AxesSubplot at 0x7f5f1bbda810>"
            ]
          },
          "metadata": {},
          "execution_count": 15
        },
        {
          "output_type": "display_data",
          "data": {
            "text/plain": [
              "<Figure size 432x288 with 1 Axes>"
            ],
            "image/png": "[encoded data removed]"
          },
          "metadata": {
            "needs_background": "light"
          }
        }
      ]
    },
    {
      "cell_type": "code",
      "source": [
        "from keras.models import Model\n",
        "from keras.layers import Input, Dense, Dropout, Conv2D, Activation, MaxPooling2D, Flatten, BatchNormalization,GlobalMaxPooling2D\n",
        "!pip install -U efficientnet"
      ],
      "metadata": {
        "id": "GiZydoZurZ6_",
        "colab": {
          "base_uri": "https://localhost:8080/"
        },
        "outputId": "f0717f5f-8b8f-46d9-84b5-8b5b61c4b63d"
      },
      "execution_count": 17,
      "outputs": [
        {
          "output_type": "stream",
          "name": "stdout",
          "text": [
            "Looking in indexes: https://pypi.org/simple, https://us-python.pkg.dev/colab-wheels/public/simple/\n",
            "Requirement already satisfied: efficientnet in /usr/local/lib/python3.7/dist-packages (1.1.1)\n",
            "Requirement already satisfied: keras-applications<=1.0.8,>=1.0.7 in /usr/local/lib/python3.7/dist-packages (from efficientnet) (1.0.8)\n",
            "Requirement already satisfied: scikit-image in /usr/local/lib/python3.7/dist-packages (from efficientnet) (0.18.3)\n",
            "Requirement already satisfied: h5py in /usr/local/lib/python3.7/dist-packages (from keras-applications<=1.0.8,>=1.0.7->efficientnet) (3.1.0)\n",
            "Requirement already satisfied: numpy>=1.9.1 in /usr/local/lib/python3.7/dist-packages (from keras-applications<=1.0.8,>=1.0.7->efficientnet) (1.21.6)\n",
            "Requirement already satisfied: cached-property in /usr/local/lib/python3.7/dist-packages (from h5py->keras-applications<=1.0.8,>=1.0.7->efficientnet) (1.5.2)\n",
            "Requirement already satisfied: matplotlib!=3.0.0,>=2.0.0 in /usr/local/lib/python3.7/dist-packages (from scikit-image->efficientnet) (3.2.2)\n",
            "Requirement already satisfied: scipy>=1.0.1 in /usr/local/lib/python3.7/dist-packages (from scikit-image->efficientnet) (1.4.1)\n",
            "Requirement already satisfied: pillow!=7.1.0,!=7.1.1,>=4.3.0 in /usr/local/lib/python3.7/dist-packages (from scikit-image->efficientnet) (7.1.2)\n",
            "Requirement already satisfied: PyWavelets>=1.1.1 in /usr/local/lib/python3.7/dist-packages (from scikit-image->efficientnet) (1.3.0)\n",
            "Requirement already satisfied: networkx>=2.0 in /usr/local/lib/python3.7/dist-packages (from scikit-image->efficientnet) (2.6.3)\n",
            "Requirement already satisfied: tifffile>=2019.7.26 in /usr/local/lib/python3.7/dist-packages (from scikit-image->efficientnet) (2021.11.2)\n",
            "Requirement already satisfied: imageio>=2.3.0 in /usr/local/lib/python3.7/dist-packages (from scikit-image->efficientnet) (2.4.1)\n",
            "Requirement already satisfied: cycler>=0.10 in /usr/local/lib/python3.7/dist-packages (from matplotlib!=3.0.0,>=2.0.0->scikit-image->efficientnet) (0.11.0)\n",
            "Requirement already satisfied: python-dateutil>=2.1 in /usr/local/lib/python3.7/dist-packages (from matplotlib!=3.0.0,>=2.0.0->scikit-image->efficientnet) (2.8.2)\n",
            "Requirement already satisfied: kiwisolver>=1.0.1 in /usr/local/lib/python3.7/dist-packages (from matplotlib!=3.0.0,>=2.0.0->scikit-image->efficientnet) (1.4.2)\n",
            "Requirement already satisfied: pyparsing!=2.0.4,!=2.1.2,!=2.1.6,>=2.0.1 in /usr/local/lib/python3.7/dist-packages (from matplotlib!=3.0.0,>=2.0.0->scikit-image->efficientnet) (3.0.9)\n",
            "Requirement already satisfied: typing-extensions in /usr/local/lib/python3.7/dist-packages (from kiwisolver>=1.0.1->matplotlib!=3.0.0,>=2.0.0->scikit-image->efficientnet) (4.2.0)\n",
            "Requirement already satisfied: six>=1.5 in /usr/local/lib/python3.7/dist-packages (from python-dateutil>=2.1->matplotlib!=3.0.0,>=2.0.0->scikit-image->efficientnet) (1.15.0)\n"
          ]
        }
      ]
    },
    {
      "cell_type": "code",
      "source": [
        "import efficientnet.tfkeras as efn"
      ],
      "metadata": {
        "id": "byS1sxpqswRj"
      },
      "execution_count": 18,
      "outputs": []
    },
    {
      "cell_type": "code",
      "source": [
        "def def_model2(inp_shape = (456,456,3)):\n",
        "  model = keras.models.Sequential([\n",
        "                                   efn.EfficientNetB5(weights='imagenet',\n",
        "                                                      include_top=False,\n",
        "                                                      input_shape=inp_shape),\n",
        "                                   GlobalMaxPooling2D(),\n",
        "                                   Dense(1, activation = \"sigmoid\")          \n",
        "                                   ])\n",
        "  model.compile(optimizer = tf.keras.optimizers.Adam(1e-3), loss=\"binary_crossentropy\", metrics = ['acc',keras.metrics.AUC(name='auc')])\n",
        "  return model"
      ],
      "metadata": {
        "id": "h4EBir9prZ4e"
      },
      "execution_count": 19,
      "outputs": []
    },
    {
      "cell_type": "code",
      "source": [
        "model2 = def_model2()\n",
        "model2.summary()"
      ],
      "metadata": {
        "colab": {
          "base_uri": "https://localhost:8080/"
        },
        "id": "E9Gc7oE0rZ12",
        "outputId": "4738648c-a55f-41be-eca9-318efaa5b0d0"
      },
      "execution_count": 20,
      "outputs": [
        {
          "output_type": "stream",
          "name": "stdout",
          "text": [
            "Downloading data from https://github.com/Callidior/keras-applications/releases/download/efficientnet/efficientnet-b5_weights_tf_dim_ordering_tf_kernels_autoaugment_notop.h5\n",
            "115515392/115515256 [==============================] - 3s 0us/step\n",
            "115523584/115515256 [==============================] - 3s 0us/step\n",
            "Model: \"sequential\"\n",
            "_________________________________________________________________\n",
            " Layer (type)                Output Shape              Param #   \n",
            "=================================================================\n",
            " efficientnet-b5 (Functional  (None, 15, 15, 2048)     28513520  \n",
            " )                                                               \n",
            "                                                                 \n",
            " global_max_pooling2d (Globa  (None, 2048)             0         \n",
            " lMaxPooling2D)                                                  \n",
            "                                                                 \n",
            " dense (Dense)               (None, 1)                 2049      \n",
            "                                                                 \n",
            "=================================================================\n",
            "Total params: 28,515,569\n",
            "Trainable params: 28,342,833\n",
            "Non-trainable params: 172,736\n",
            "_________________________________________________________________\n"
          ]
        }
      ]
    },
    {
      "cell_type": "code",
      "source": [
        "from keras.preprocessing.image import ImageDataGenerator"
      ],
      "metadata": {
        "id": "S4J5__w4rZzO"
      },
      "execution_count": 21,
      "outputs": []
    },
    {
      "cell_type": "code",
      "source": [
        "datagen = ImageDataGenerator(height_shift_range=0.2,\n",
        "                            width_shift_range=0.2,\n",
        "                             )\n",
        "train_generator = datagen.flow(X_train2, y_train2, batch_size=4)\n",
        "val_generator = datagen.flow(x_test2, y_test2, batch_size=4)"
      ],
      "metadata": {
        "id": "OQinDJ0rsOj4"
      },
      "execution_count": 22,
      "outputs": []
    },
    {
      "cell_type": "code",
      "source": [
        "callback = keras.callbacks.ReduceLROnPlateau(\n",
        "    monitor='loss',factor=0.25,patience=2, verbose=1,min_delta=0.0001,cooldown=0,min_lr=0.00001, mode='auto',\n",
        ")\n",
        "\n",
        "es = keras.callbacks.EarlyStopping(monitor='val_loss', mode='min', verbose=1, patience=3, restore_best_weights=True)"
      ],
      "metadata": {
        "id": "5iEtqS4nsOhI"
      },
      "execution_count": 23,
      "outputs": []
    },
    {
      "cell_type": "code",
      "source": [
        "history2 = model2.fit(train_generator, validation_data=val_generator, epochs = 30,\n",
        "                     callbacks=[es,callback])\n",
        "model2.save('model_EfficientNetB32.h5')"
      ],
      "metadata": {
        "colab": {
          "base_uri": "https://localhost:8080/"
        },
        "id": "k22tSuXzsOe9",
        "outputId": "1dc1e15f-f58c-4202-c488-b130208b1657"
      },
      "execution_count": 24,
      "outputs": [
        {
          "output_type": "stream",
          "name": "stdout",
          "text": [
            "Epoch 1/30\n",
            "448/448 [==============================] - 240s 462ms/step - loss: 1.1729 - acc: 0.5821 - auc: 0.5852 - val_loss: 0.5333 - val_acc: 0.8797 - val_auc: 0.9548 - lr: 0.0010\n",
            "Epoch 2/30\n",
            "448/448 [==============================] - 201s 448ms/step - loss: 0.6583 - acc: 0.5855 - auc: 0.6403 - val_loss: 0.2868 - val_acc: 0.9774 - val_auc: 0.9988 - lr: 0.0010\n",
            "Epoch 3/30\n",
            "448/448 [==============================] - 203s 452ms/step - loss: 0.6499 - acc: 0.6061 - auc: 0.6550 - val_loss: 0.1900 - val_acc: 0.9774 - val_auc: 0.9997 - lr: 0.0010\n",
            "Epoch 4/30\n",
            "448/448 [==============================] - 202s 450ms/step - loss: 0.6218 - acc: 0.6564 - auc: 0.7079 - val_loss: 0.5526 - val_acc: 0.6617 - val_auc: 0.6315 - lr: 0.0010\n",
            "Epoch 5/30\n",
            "448/448 [==============================] - 202s 450ms/step - loss: 0.6240 - acc: 0.6520 - auc: 0.7041 - val_loss: 1.4649 - val_acc: 0.6992 - val_auc: 0.6320 - lr: 0.0010\n",
            "Epoch 6/30\n",
            "448/448 [==============================] - ETA: 0s - loss: 0.6182 - acc: 0.6709 - auc: 0.7162Restoring model weights from the end of the best epoch: 3.\n",
            "448/448 [==============================] - 203s 453ms/step - loss: 0.6182 - acc: 0.6709 - auc: 0.7162 - val_loss: 0.2694 - val_acc: 0.9774 - val_auc: 0.9508 - lr: 0.0010\n",
            "Epoch 6: early stopping\n"
          ]
        }
      ]
    },
    {
      "cell_type": "code",
      "source": [
        "plt.figure(figsize = (12,6))\n",
        "plt.subplot(2,1,1)\n",
        "plt.plot(history2.history['acc'], label=\"train_acc\")\n",
        "plt.plot(history2.history['val_acc'], label = \"test_acc\")\n",
        "plt.legend()\n",
        "plt.subplot(2,1,2)\n",
        "plt.plot(history2.history['loss'], label = \"train_loss\")\n",
        "plt.plot(history2.history['val_loss'], label = \"val_loss\")\n",
        "plt.legend()"
      ],
      "metadata": {
        "colab": {
          "base_uri": "https://localhost:8080/",
          "height": 391
        },
        "id": "GLmEf8AvsOcf",
        "outputId": "e9d51462-b9b5-42b1-aff6-c4d0fd78537c"
      },
      "execution_count": 27,
      "outputs": [
        {
          "output_type": "execute_result",
          "data": {
            "text/plain": [
              "<matplotlib.legend.Legend at 0x7f5e846036d0>"
            ]
          },
          "metadata": {},
          "execution_count": 27
        },
        {
          "output_type": "display_data",
          "data": {
            "text/plain": [
              "<Figure size 864x432 with 2 Axes>"
            ],
            "image/png": "[encoded data removed]"
          },
          "metadata": {
            "needs_background": "light"
          }
        }
      ]
    },
    {
      "cell_type": "code",
      "source": [
        "pred = model2.predict(x_test2)\n",
        "\n",
        "res = []\n",
        "for prediction in pred:\n",
        "    if(prediction > 0.5):\n",
        "        res.append(1)\n",
        "    else:\n",
        "        res.append(0)\n",
        "        \n",
        "from sklearn.metrics import classification_report, confusion_matrix\n",
        "conf = confusion_matrix(y_test2, res)\n",
        "sns.heatmap(conf,annot=True,fmt='0.2f',cmap='Oranges',xticklabels=['0','1'],yticklabels=['0','1'])\n",
        "print(classification_report(y_test2, res))\n",
        "\n",
        "from sklearn.metrics import roc_curve,roc_auc_score\n",
        "pred_prob = pred\n",
        "\n",
        "# roc curve for models\n",
        "fpr1, tpr1, thresh1 = roc_curve(y_test2, pred_prob[:], pos_label=1)\n",
        "\n",
        "# roc curve for tpr = fpr \n",
        "random_probs = [0 for i in range(len(y_test2))]\n",
        "p_fpr, p_tpr, _ = roc_curve(y_test2, random_probs, pos_label=1)\n",
        "\n",
        "# auc score\n",
        "auc_score = roc_auc_score(y_test2, pred_prob[:])\n",
        "\n",
        "print('AUC Score : ',auc_score)"
      ],
      "metadata": {
        "colab": {
          "base_uri": "https://localhost:8080/",
          "height": 439
        },
        "id": "cwTcSw0T1g7i",
        "outputId": "6704e217-379e-455d-b053-386c602643b1"
      },
      "execution_count": 26,
      "outputs": [
        {
          "output_type": "stream",
          "name": "stdout",
          "text": [
            "              precision    recall  f1-score   support\n",
            "\n",
            "           0       1.00      0.93      0.96        40\n",
            "           1       0.97      1.00      0.98        93\n",
            "\n",
            "    accuracy                           0.98       133\n",
            "   macro avg       0.98      0.96      0.97       133\n",
            "weighted avg       0.98      0.98      0.98       133\n",
            "\n",
            "AUC Score :  1.0\n"
          ]
        },
        {
          "output_type": "display_data",
          "data": {
            "text/plain": [
              "<Figure size 432x288 with 2 Axes>"
            ],
            "image/png": "[encoded data removed]"
          },
          "metadata": {
            "needs_background": "light"
          }
        }
      ]
    },
    {
      "cell_type": "code",
      "source": [
        "# plot roc curves\n",
        "plt.plot(fpr1, tpr1, linestyle='--',color='red', label='EfficientNet B5')\n",
        "plt.plot(p_fpr, p_tpr, linestyle='--', color='blue')\n",
        "# title\n",
        "plt.title('ROC curve')\n",
        "# x label\n",
        "plt.xlabel('False Positive Rate')\n",
        "# y label\n",
        "plt.ylabel('True Positive rate')\n",
        "\n",
        "plt.legend(loc='best')\n",
        "plt.savefig('ROC',dpi=300)\n",
        "plt.show();"
      ],
      "metadata": {
        "colab": {
          "base_uri": "https://localhost:8080/",
          "height": 295
        },
        "id": "c3cK0ZRD1g4c",
        "outputId": "7d5ed393-19e8-423a-f48f-d201be0c6a49"
      },
      "execution_count": 28,
      "outputs": [
        {
          "output_type": "display_data",
          "data": {
            "text/plain": [
              "<Figure size 432x288 with 1 Axes>"
            ],
            "image/png": "[encoded data removed]"
          },
          "metadata": {
            "needs_background": "light"
          }
        }
      ]
    },
    {
      "cell_type": "code",
      "source": [
        "# saving the model architecture as png image\n",
        "from keras.utils.vis_utils import plot_model\n",
        "plot_model(model2,to_file='EnetB5.png',show_shapes=True, show_layer_names=True)\n",
        "from IPython.display import Image\n",
        "Image(retina=True, filename='EnetB5.png')"
      ],
      "metadata": {
        "id": "y-CnMf5H1g18",
        "colab": {
          "base_uri": "https://localhost:8080/",
          "height": 219
        },
        "outputId": "9fbeb175-a26f-427f-dfbd-6285d88c0c3e"
      },
      "execution_count": 29,
      "outputs": [
        {
          "output_type": "execute_result",
          "data": {
            "text/plain": [
              "<IPython.core.display.Image object>"
            ],
            "image/png": "[encoded data removed]"
          },
          "metadata": {
            "image/png": {
              "width": 323,
              "height": 202
            }
          },
          "execution_count": 29
        }
      ]
    },
    {
      "cell_type": "code",
      "source": [
        ""
      ],
      "metadata": {
        "id": "_ONBsAIJe9Gs"
      },
      "execution_count": null,
      "outputs": []
    }
  ],
  "metadata": {
    "accelerator": "GPU",
    "colab": {
      "collapsed_sections": [],
      "machine_shape": "hm",
      "name": "EfficientNetB5_Single_tumor_classify.ipynb",
      "provenance": []
    },
    "kernelspec": {
      "display_name": "Python 3",
      "name": "python3"
    },
    "language_info": {
      "name": "python"
    }
  },
  "nbformat": 4,
  "nbformat_minor": 0
}