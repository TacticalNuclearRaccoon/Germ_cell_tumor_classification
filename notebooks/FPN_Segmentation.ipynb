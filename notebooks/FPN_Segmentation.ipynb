{
  "nbformat": 4,
  "nbformat_minor": 0,
  "metadata": {
    "colab": {
      "name": "FPN_Segmentation.ipynb",
      "provenance": [],
      "collapsed_sections": [],
      "machine_shape": "hm"
    },
    "kernelspec": {
      "name": "python3",
      "display_name": "Python 3"
    },
    "language_info": {
      "name": "python"
    },
    "accelerator": "GPU"
  },
  "cells": [
    {
      "cell_type": "markdown",
      "source": [
        "# Segmentation on testicular germ cell tumors data "
      ],
      "metadata": {
        "id": "Kgd46p9CJQCx"
      }
    },
    {
      "cell_type": "code",
      "source": [
        "gpu_info = !nvidia-smi\n",
        "gpu_info = '\\n'.join(gpu_info)\n",
        "if gpu_info.find('failed') >= 0:\n",
        "  print('Not connected to a GPU')\n",
        "else:\n",
        "  print(gpu_info)"
      ],
      "metadata": {
        "colab": {
          "base_uri": "https://localhost:8080/"
        },
        "id": "N0gUsLugti7Y",
        "outputId": "ac29e650-3f8d-4dc2-928e-855a380a2b14"
      },
      "execution_count": null,
      "outputs": [
        {
          "output_type": "stream",
          "name": "stdout",
          "text": [
            "Wed Mar 23 19:13:58 2022       \n",
            "+-----------------------------------------------------------------------------+\n",
            "| NVIDIA-SMI 460.32.03    Driver Version: 460.32.03    CUDA Version: 11.2     |\n",
            "|-------------------------------+----------------------+----------------------+\n",
            "| GPU  Name        Persistence-M| Bus-Id        Disp.A | Volatile Uncorr. ECC |\n",
            "| Fan  Temp  Perf  Pwr:Usage/Cap|         Memory-Usage | GPU-Util  Compute M. |\n",
            "|                               |                      |               MIG M. |\n",
            "|===============================+======================+======================|\n",
            "|   0  Tesla P100-PCIE...  Off  | 00000000:00:04.0 Off |                    0 |\n",
            "| N/A   48C    P0    27W / 250W |      0MiB / 16280MiB |      0%      Default |\n",
            "|                               |                      |                  N/A |\n",
            "+-------------------------------+----------------------+----------------------+\n",
            "                                                                               \n",
            "+-----------------------------------------------------------------------------+\n",
            "| Processes:                                                                  |\n",
            "|  GPU   GI   CI        PID   Type   Process name                  GPU Memory |\n",
            "|        ID   ID                                                   Usage      |\n",
            "|=============================================================================|\n",
            "|  No running processes found                                                 |\n",
            "+-----------------------------------------------------------------------------+\n"
          ]
        }
      ]
    },
    {
      "cell_type": "markdown",
      "source": [
        "## Loading libraries & installing packages"
      ],
      "metadata": {
        "id": "qTr2k1VyJdsK"
      }
    },
    {
      "cell_type": "code",
      "source": [
        "!pip install pydicom"
      ],
      "metadata": {
        "id": "yHvkJ-OrWngT",
        "colab": {
          "base_uri": "https://localhost:8080/"
        },
        "outputId": "84cd9550-2a19-4e95-a71a-ef997d9c68fa"
      },
      "execution_count": 2,
      "outputs": [
        {
          "output_type": "stream",
          "name": "stdout",
          "text": [
            "Collecting pydicom\n",
            "  Downloading pydicom-2.2.2-py3-none-any.whl (2.0 MB)\n",
            "\u001b[K     |████████████████████████████████| 2.0 MB 4.1 MB/s \n",
            "\u001b[?25hInstalling collected packages: pydicom\n",
            "Successfully installed pydicom-2.2.2\n"
          ]
        }
      ]
    },
    {
      "cell_type": "code",
      "source": [
        "!pip install mlflow"
      ],
      "metadata": {
        "id": "rL3BZIrAWsh6"
      },
      "execution_count": null,
      "outputs": []
    },
    {
      "cell_type": "code",
      "source": [
        "#below is to prevent keras segmentation models 'str' object has no attribute 'decode' error with segmentatin models\n",
        "!pip install 'h5py==2.10.0' --force-reinstall"
      ],
      "metadata": {
        "id": "YGglE0rNTUAs"
      },
      "execution_count": null,
      "outputs": []
    },
    {
      "cell_type": "code",
      "execution_count": 4,
      "metadata": {
        "id": "rpIM1pggNRsa"
      },
      "outputs": [],
      "source": [
        "import numpy as np\n",
        "import glob2\n",
        "import pandas as pd\n",
        "from sklearn.model_selection import train_test_split\n",
        "import os, shutil\n",
        "import tensorflow as tf\n",
        "import pydicom\n",
        "import glob2\n",
        "import os\n",
        "import matplotlib.pyplot as plt \n",
        "import matplotlib.patches as patches\n",
        "import tqdm\n",
        "import itertools\n",
        "import mlflow\n",
        "import numpy as np\n",
        "import keras\n",
        "import pandas as pd\n",
        "from tensorflow.keras.utils import to_categorical\n",
        "\n",
        "import tensorflow as tf\n",
        "from tensorflow.keras.applications.resnet50 import ResNet50\n",
        "from keras.layers import Dense, Dropout\n",
        "from tensorflow.keras.optimizers import Adam\n",
        "from keras.callbacks import *\n",
        "from keras_preprocessing.image import ImageDataGenerator\n",
        "\n",
        "from PIL import Image\n",
        "import cv2"
      ]
    },
    {
      "cell_type": "markdown",
      "source": [
        "## Housekeeping\n",
        "Copying data from drive to the virtual machine"
      ],
      "metadata": {
        "id": "i8k63KQEcCYZ"
      }
    },
    {
      "cell_type": "code",
      "source": [
        "from google.colab import drive\n",
        "drive.mount('/content/gdrive')"
      ],
      "metadata": {
        "id": "fgvZ3C1sSSV8",
        "colab": {
          "base_uri": "https://localhost:8080/"
        },
        "outputId": "24eadb24-d80c-4217-ac77-f79cc962b17f"
      },
      "execution_count": 29,
      "outputs": [
        {
          "output_type": "stream",
          "name": "stdout",
          "text": [
            "Mounted at /content/gdrive\n"
          ]
        }
      ]
    },
    {
      "cell_type": "code",
      "source": [
        "!cp /content/gdrive/MyDrive/Data.zip /content/"
      ],
      "metadata": {
        "id": "WS-aWbE6uBGI"
      },
      "execution_count": 30,
      "outputs": []
    },
    {
      "cell_type": "code",
      "source": [
        "!unzip -q Data.zip"
      ],
      "metadata": {
        "id": "57J0shHPu3Ll"
      },
      "execution_count": 31,
      "outputs": []
    },
    {
      "cell_type": "markdown",
      "source": [
        "## Data Generator"
      ],
      "metadata": {
        "id": "xtIDpdOQcNKA"
      }
    },
    {
      "cell_type": "code",
      "source": [
        "import tensorflow"
      ],
      "metadata": {
        "id": "9qFsAU_Vx7oj"
      },
      "execution_count": 6,
      "outputs": []
    },
    {
      "cell_type": "code",
      "source": [
        "class DataGenerator(tensorflow.keras.utils.Sequence):\n",
        "  def __init__(self, df, modality=\"train\",batch_size=4, dim=(512,512), n_channels=3, n_classes=3, shuffle=True, rgb=True):\n",
        "\n",
        "    'Initialization'\n",
        "    self.dim = dim\n",
        "    self.batch_size = batch_size\n",
        "    self.rgb = rgb\n",
        "\n",
        "    # in case the image paths are different , you might have to modify them\n",
        "    #self.dataframe[\"mask_path\"] = self.dataframe[\"mask_path\"].apply(lambda x:x.replace(OLD_HOME,NEW_HOME))\n",
        "\n",
        "    # in case the mask paths are different , you might have to modify them                                                                                             \n",
        "    #self.dataframe[\"im_path\"] = self.dataframe[\"im_path\"].apply(lambda x:x.replace(OLD_HOME,NEW_HOME))\n",
        "                                                                                                      \n",
        "    # get data in and shuffle\n",
        "    self.dataframe = df.reset_index(drop=True).sample(frac=1)\n",
        "        \n",
        "    # get the ID list\n",
        "    self.list_IDs = list(self.dataframe.index)\n",
        "        \n",
        "        # depending on the models u must specify a given number of channels (3 or 1)\n",
        "    self.n_channels = n_channels\n",
        "        \n",
        "    # n classes (binary problem or categorical problem \n",
        "    # you can use this parameter for to_categorical for ex)\n",
        "\n",
        "    self.n_classes = n_classes\n",
        "    self.shuffle = shuffle\n",
        "\n",
        "    # simple conversion dictionary\n",
        "    self.map = {\"patho\":1,\"non_patho\":0}\n",
        "    self.on_epoch_end()\n",
        "\n",
        "  def __len__(self):\n",
        "    'Denotes the number of batches per epoch'\n",
        "    return int(np.floor(len(self.list_IDs) / self.batch_size))\n",
        "  def __getitem__(self, index):\n",
        "    'Generate one batch of data'\n",
        "    # Generate indexes of the batch\n",
        "    indexes = self.indexes[index*self.batch_size:(index+1)*self.batch_size]\n",
        "\n",
        "    # Find list of IDs\n",
        "    self.list_IDs_temp = [self.list_IDs[k] for k in indexes]\n",
        "\n",
        "    # Generate data\n",
        "    X, y = self.__data_generation(self.list_IDs_temp)\n",
        "\n",
        "    return X, y\n",
        "\n",
        "  def on_epoch_end(self):\n",
        "    'Updates indexes after each epoch'\n",
        "    self.indexes = np.arange(len(self.list_IDs))\n",
        "    if self.shuffle == True:\n",
        "      np.random.shuffle(self.indexes)\n",
        "  #draw image on mask at the end of each epoch for example\n",
        "  def __data_generation(self, list_IDs_temp):\n",
        "    'Generates data containing batch_size samples' \n",
        "    # X : (n_samples, *dim, n_channels)\n",
        "    # y : (n_samples, *dim, n_channels)\n",
        "\n",
        "    # Initialization\n",
        "\n",
        "    # images\n",
        "    if self.rgb:\n",
        "\n",
        "      X = np.empty((self.batch_size, *self.dim, self.n_channels))\n",
        "    else:\n",
        "      X = np.empty((self.batch_size, *self.dim, 1))\n",
        "\n",
        "    # masks\n",
        "    y = np.empty((self.batch_size, *self.dim, 1))\n",
        "\n",
        "    # Generate data\n",
        "    for i, ID in enumerate(list_IDs_temp):\n",
        "            \n",
        "        # Store sample\n",
        "        # you might want to convert the data to np.uint8 if needed\n",
        "        # can try to train on raw data as well\n",
        "        im = np.load(self.dataframe.loc[ID,\"image_path\"]) \n",
        "\n",
        "        # Store mask:\n",
        "        # the mask values must be between 0 and 1\n",
        "        mask = np.load(self.dataframe.loc[ID,\"mask_path\"]) /255.  \n",
        "    \n",
        "        if self.rgb:\n",
        "\n",
        "          X[i,] = cv2.merge([im, im, im]) # convert the image (numpy array in to rgb)\n",
        "                                          #gives a dimension (shape) of (512,512,3)\n",
        "        else: \n",
        "          X[i,] = np.expand_dims(im, axis=-1)\n",
        "\n",
        "        # Store class\n",
        "        y[i] = np.expand_dims(mask, axis=-1)     #to_categorical(mask, num_classes=self.n_classes) \n",
        "                    # depending on your loss function \n",
        "                    # (you might have to convert it to a \n",
        "                    # mask of size 512x 512x nclasses like below)\n",
        "\n",
        "    return X, y"
      ],
      "metadata": {
        "id": "elzGdmOiU9gq"
      },
      "execution_count": 7,
      "outputs": []
    },
    {
      "cell_type": "markdown",
      "source": [
        "## Preparing training, validation, and test datasets"
      ],
      "metadata": {
        "id": "yxWjpdxscQXn"
      }
    },
    {
      "cell_type": "code",
      "source": [
        "train_data = glob2.glob('/content/content/Donnes_patients/DATA/train/*/*.npy')"
      ],
      "metadata": {
        "id": "W6zAcxeHfwWV"
      },
      "execution_count": null,
      "outputs": []
    },
    {
      "cell_type": "code",
      "source": [
        "len(train_data)"
      ],
      "metadata": {
        "colab": {
          "base_uri": "https://localhost:8080/"
        },
        "id": "K5N1YB8tMSJ_",
        "outputId": "308eba04-731b-430d-98da-298eecc55f5b"
      },
      "execution_count": null,
      "outputs": [
        {
          "output_type": "execute_result",
          "data": {
            "text/plain": [
              "5982"
            ]
          },
          "metadata": {},
          "execution_count": 12
        }
      ]
    },
    {
      "cell_type": "code",
      "source": [
        "train_images = [file for file in train_data if 'mask' not in file]\n",
        "train_masks = [file for file in train_data if 'mask' in file]"
      ],
      "metadata": {
        "id": "GvM2EEOcf8Yu"
      },
      "execution_count": null,
      "outputs": []
    },
    {
      "cell_type": "code",
      "source": [
        "print(len(train_images), len(train_masks))"
      ],
      "metadata": {
        "colab": {
          "base_uri": "https://localhost:8080/"
        },
        "id": "hdkESId-PTO4",
        "outputId": "be054170-2267-47a4-e1a6-a4b58b10e514"
      },
      "execution_count": null,
      "outputs": [
        {
          "output_type": "stream",
          "name": "stdout",
          "text": [
            "2991 2991\n"
          ]
        }
      ]
    },
    {
      "cell_type": "code",
      "source": [
        "val_data = glob2.glob('/content/content/Donnes_patients/DATA/val/*/*.npy')\n",
        "val_images = [file for file in val_data if 'mask' not in file]\n",
        "val_masks = [file for file in val_data if 'mask' in file]\n",
        "print(len(val_images), len(val_masks))"
      ],
      "metadata": {
        "colab": {
          "base_uri": "https://localhost:8080/"
        },
        "id": "TIwsvVoFP0te",
        "outputId": "7e90aa09-1423-4819-8193-d55313426e14"
      },
      "execution_count": null,
      "outputs": [
        {
          "output_type": "stream",
          "name": "stdout",
          "text": [
            "2225 2225\n"
          ]
        }
      ]
    },
    {
      "cell_type": "code",
      "source": [
        "test_data = glob2.glob('/content/content/Donnes_patients/DATA/test/*/*.npy')\n",
        "test_images = [file for file in test_data if 'mask' not in file]\n",
        "test_masks = [file for file in test_data if 'mask' in file]\n",
        "print(len(test_images), len(test_masks))"
      ],
      "metadata": {
        "colab": {
          "base_uri": "https://localhost:8080/"
        },
        "id": "bdOSxrWOP0fO",
        "outputId": "65d26140-dbec-4dc5-8415-287cf56204c5"
      },
      "execution_count": null,
      "outputs": [
        {
          "output_type": "stream",
          "name": "stdout",
          "text": [
            "755 755\n"
          ]
        }
      ]
    },
    {
      "cell_type": "code",
      "source": [
        "train_df = pd.DataFrame(list(zip(train_images, train_masks)), columns = ['image_path', 'mask_path'])\n",
        "val_df = pd.DataFrame(list(zip(val_images, val_masks)), columns = ['image_path', 'mask_path'])\n",
        "test_df = pd.DataFrame(list(zip(test_images, test_masks)), columns = ['image_path', 'mask_path'])"
      ],
      "metadata": {
        "id": "nrQ0dEgbQiPZ"
      },
      "execution_count": null,
      "outputs": []
    },
    {
      "cell_type": "code",
      "source": [
        "train_csv = train_df.to_csv('train.csv', index=None)\n",
        "val_csv = val_df.to_csv('val.csv', index=None)\n",
        "test_csv = test_df.to_csv('test.csv', index=None)"
      ],
      "metadata": {
        "id": "klDnh-0MhTTn"
      },
      "execution_count": null,
      "outputs": []
    },
    {
      "cell_type": "code",
      "source": [
        "train_set = pd.read_csv('train1.csv')\n",
        "train_set.head()"
      ],
      "metadata": {
        "colab": {
          "base_uri": "https://localhost:8080/",
          "height": 206
        },
        "id": "-pb2UldlaEw7",
        "outputId": "3f9207ec-8eda-41fa-e441-79c597162b95"
      },
      "execution_count": 8,
      "outputs": [
        {
          "output_type": "execute_result",
          "data": {
            "text/plain": [
              "                                          image_path  \\\n",
              "0  /content/content/Donnes_patients/DATA/train/NI...   \n",
              "1  /content/content/Donnes_patients/DATA/train/NI...   \n",
              "2  /content/content/Donnes_patients/DATA/train/NI...   \n",
              "3  /content/content/Donnes_patients/DATA/train/NI...   \n",
              "4  /content/content/Donnes_patients/DATA/train/NI...   \n",
              "\n",
              "                                           mask_path  \n",
              "0  /content/content/Donnes_patients/DATA/train/NI...  \n",
              "1  /content/content/Donnes_patients/DATA/train/NI...  \n",
              "2  /content/content/Donnes_patients/DATA/train/NI...  \n",
              "3  /content/content/Donnes_patients/DATA/train/NI...  \n",
              "4  /content/content/Donnes_patients/DATA/train/NI...  "
            ],
            "text/html": [
              "\n",
              "  <div id=\"df-c3f15cd9-3d9f-4c4b-9011-4e15e6fb295f\">\n",
              "    <div class=\"colab-df-container\">\n",
              "      <div>\n",
              "<style scoped>\n",
              "    .dataframe tbody tr th:only-of-type {\n",
              "        vertical-align: middle;\n",
              "    }\n",
              "\n",
              "    .dataframe tbody tr th {\n",
              "        vertical-align: top;\n",
              "    }\n",
              "\n",
              "    .dataframe thead th {\n",
              "        text-align: right;\n",
              "    }\n",
              "</style>\n",
              "<table border=\"1\" class=\"dataframe\">\n",
              "  <thead>\n",
              "    <tr style=\"text-align: right;\">\n",
              "      <th></th>\n",
              "      <th>image_path</th>\n",
              "      <th>mask_path</th>\n",
              "    </tr>\n",
              "  </thead>\n",
              "  <tbody>\n",
              "    <tr>\n",
              "      <th>0</th>\n",
              "      <td>/content/content/Donnes_patients/DATA/train/NI...</td>\n",
              "      <td>/content/content/Donnes_patients/DATA/train/NI...</td>\n",
              "    </tr>\n",
              "    <tr>\n",
              "      <th>1</th>\n",
              "      <td>/content/content/Donnes_patients/DATA/train/NI...</td>\n",
              "      <td>/content/content/Donnes_patients/DATA/train/NI...</td>\n",
              "    </tr>\n",
              "    <tr>\n",
              "      <th>2</th>\n",
              "      <td>/content/content/Donnes_patients/DATA/train/NI...</td>\n",
              "      <td>/content/content/Donnes_patients/DATA/train/NI...</td>\n",
              "    </tr>\n",
              "    <tr>\n",
              "      <th>3</th>\n",
              "      <td>/content/content/Donnes_patients/DATA/train/NI...</td>\n",
              "      <td>/content/content/Donnes_patients/DATA/train/NI...</td>\n",
              "    </tr>\n",
              "    <tr>\n",
              "      <th>4</th>\n",
              "      <td>/content/content/Donnes_patients/DATA/train/NI...</td>\n",
              "      <td>/content/content/Donnes_patients/DATA/train/NI...</td>\n",
              "    </tr>\n",
              "  </tbody>\n",
              "</table>\n",
              "</div>\n",
              "      <button class=\"colab-df-convert\" onclick=\"convertToInteractive('df-c3f15cd9-3d9f-4c4b-9011-4e15e6fb295f')\"\n",
              "              title=\"Convert this dataframe to an interactive table.\"\n",
              "              style=\"display:none;\">\n",
              "        \n",
              "  <svg xmlns=\"http://www.w3.org/2000/svg\" height=\"24px\"viewBox=\"0 0 24 24\"\n",
              "       width=\"24px\">\n",
              "    <path d=\"M0 0h24v24H0V0z\" fill=\"none\"/>\n",
              "    <path d=\"M18.56 5.44l.94 2.06.94-2.06 2.06-.94-2.06-.94-.94-2.06-.94 2.06-2.06.94zm-11 1L8.5 8.5l.94-2.06 2.06-.94-2.06-.94L8.5 2.5l-.94 2.06-2.06.94zm10 10l.94 2.06.94-2.06 2.06-.94-2.06-.94-.94-2.06-.94 2.06-2.06.94z\"/><path d=\"M17.41 7.96l-1.37-1.37c-.4-.4-.92-.59-1.43-.59-.52 0-1.04.2-1.43.59L10.3 9.45l-7.72 7.72c-.78.78-.78 2.05 0 2.83L4 21.41c.39.39.9.59 1.41.59.51 0 1.02-.2 1.41-.59l7.78-7.78 2.81-2.81c.8-.78.8-2.07 0-2.86zM5.41 20L4 18.59l7.72-7.72 1.47 1.35L5.41 20z\"/>\n",
              "  </svg>\n",
              "      </button>\n",
              "      \n",
              "  <style>\n",
              "    .colab-df-container {\n",
              "      display:flex;\n",
              "      flex-wrap:wrap;\n",
              "      gap: 12px;\n",
              "    }\n",
              "\n",
              "    .colab-df-convert {\n",
              "      background-color: #E8F0FE;\n",
              "      border: none;\n",
              "      border-radius: 50%;\n",
              "      cursor: pointer;\n",
              "      display: none;\n",
              "      fill: #1967D2;\n",
              "      height: 32px;\n",
              "      padding: 0 0 0 0;\n",
              "      width: 32px;\n",
              "    }\n",
              "\n",
              "    .colab-df-convert:hover {\n",
              "      background-color: #E2EBFA;\n",
              "      box-shadow: 0px 1px 2px rgba(60, 64, 67, 0.3), 0px 1px 3px 1px rgba(60, 64, 67, 0.15);\n",
              "      fill: #174EA6;\n",
              "    }\n",
              "\n",
              "    [theme=dark] .colab-df-convert {\n",
              "      background-color: #3B4455;\n",
              "      fill: #D2E3FC;\n",
              "    }\n",
              "\n",
              "    [theme=dark] .colab-df-convert:hover {\n",
              "      background-color: #434B5C;\n",
              "      box-shadow: 0px 1px 3px 1px rgba(0, 0, 0, 0.15);\n",
              "      filter: drop-shadow(0px 1px 2px rgba(0, 0, 0, 0.3));\n",
              "      fill: #FFFFFF;\n",
              "    }\n",
              "  </style>\n",
              "\n",
              "      <script>\n",
              "        const buttonEl =\n",
              "          document.querySelector('#df-c3f15cd9-3d9f-4c4b-9011-4e15e6fb295f button.colab-df-convert');\n",
              "        buttonEl.style.display =\n",
              "          google.colab.kernel.accessAllowed ? 'block' : 'none';\n",
              "\n",
              "        async function convertToInteractive(key) {\n",
              "          const element = document.querySelector('#df-c3f15cd9-3d9f-4c4b-9011-4e15e6fb295f');\n",
              "          const dataTable =\n",
              "            await google.colab.kernel.invokeFunction('convertToInteractive',\n",
              "                                                     [key], {});\n",
              "          if (!dataTable) return;\n",
              "\n",
              "          const docLinkHtml = 'Like what you see? Visit the ' +\n",
              "            '<a target=\"_blank\" href=https://colab.research.google.com/notebooks/data_table.ipynb>data table notebook</a>'\n",
              "            + ' to learn more about interactive tables.';\n",
              "          element.innerHTML = '';\n",
              "          dataTable['output_type'] = 'display_data';\n",
              "          await google.colab.output.renderOutput(dataTable, element);\n",
              "          const docLink = document.createElement('div');\n",
              "          docLink.innerHTML = docLinkHtml;\n",
              "          element.appendChild(docLink);\n",
              "        }\n",
              "      </script>\n",
              "    </div>\n",
              "  </div>\n",
              "  "
            ]
          },
          "metadata": {},
          "execution_count": 8
        }
      ]
    },
    {
      "cell_type": "code",
      "source": [
        "val_set = pd.read_csv('val1.csv')\n",
        "test_set = pd.read_csv('test1.csv')"
      ],
      "metadata": {
        "id": "xAEjSZ_HaNtg"
      },
      "execution_count": 9,
      "outputs": []
    },
    {
      "cell_type": "code",
      "source": [
        "val_set.head()"
      ],
      "metadata": {
        "colab": {
          "base_uri": "https://localhost:8080/",
          "height": 206
        },
        "id": "B9XbjyEh-jQL",
        "outputId": "43f0866e-2a15-4522-85c9-d9e80b8b4d53"
      },
      "execution_count": 10,
      "outputs": [
        {
          "output_type": "execute_result",
          "data": {
            "text/plain": [
              "                                          image_path  \\\n",
              "0  /content/content/Donnes_patients/DATA/val/NIFT...   \n",
              "1  /content/content/Donnes_patients/DATA/val/NIFT...   \n",
              "2  /content/content/Donnes_patients/DATA/val/NIFT...   \n",
              "3  /content/content/Donnes_patients/DATA/val/NIFT...   \n",
              "4  /content/content/Donnes_patients/DATA/val/NIFT...   \n",
              "\n",
              "                                           mask_path  \n",
              "0  /content/content/Donnes_patients/DATA/val/NIFT...  \n",
              "1  /content/content/Donnes_patients/DATA/val/NIFT...  \n",
              "2  /content/content/Donnes_patients/DATA/val/NIFT...  \n",
              "3  /content/content/Donnes_patients/DATA/val/NIFT...  \n",
              "4  /content/content/Donnes_patients/DATA/val/NIFT...  "
            ],
            "text/html": [
              "\n",
              "  <div id=\"df-a367988e-681e-4914-bbe5-a860a2b00aca\">\n",
              "    <div class=\"colab-df-container\">\n",
              "      <div>\n",
              "<style scoped>\n",
              "    .dataframe tbody tr th:only-of-type {\n",
              "        vertical-align: middle;\n",
              "    }\n",
              "\n",
              "    .dataframe tbody tr th {\n",
              "        vertical-align: top;\n",
              "    }\n",
              "\n",
              "    .dataframe thead th {\n",
              "        text-align: right;\n",
              "    }\n",
              "</style>\n",
              "<table border=\"1\" class=\"dataframe\">\n",
              "  <thead>\n",
              "    <tr style=\"text-align: right;\">\n",
              "      <th></th>\n",
              "      <th>image_path</th>\n",
              "      <th>mask_path</th>\n",
              "    </tr>\n",
              "  </thead>\n",
              "  <tbody>\n",
              "    <tr>\n",
              "      <th>0</th>\n",
              "      <td>/content/content/Donnes_patients/DATA/val/NIFT...</td>\n",
              "      <td>/content/content/Donnes_patients/DATA/val/NIFT...</td>\n",
              "    </tr>\n",
              "    <tr>\n",
              "      <th>1</th>\n",
              "      <td>/content/content/Donnes_patients/DATA/val/NIFT...</td>\n",
              "      <td>/content/content/Donnes_patients/DATA/val/NIFT...</td>\n",
              "    </tr>\n",
              "    <tr>\n",
              "      <th>2</th>\n",
              "      <td>/content/content/Donnes_patients/DATA/val/NIFT...</td>\n",
              "      <td>/content/content/Donnes_patients/DATA/val/NIFT...</td>\n",
              "    </tr>\n",
              "    <tr>\n",
              "      <th>3</th>\n",
              "      <td>/content/content/Donnes_patients/DATA/val/NIFT...</td>\n",
              "      <td>/content/content/Donnes_patients/DATA/val/NIFT...</td>\n",
              "    </tr>\n",
              "    <tr>\n",
              "      <th>4</th>\n",
              "      <td>/content/content/Donnes_patients/DATA/val/NIFT...</td>\n",
              "      <td>/content/content/Donnes_patients/DATA/val/NIFT...</td>\n",
              "    </tr>\n",
              "  </tbody>\n",
              "</table>\n",
              "</div>\n",
              "      <button class=\"colab-df-convert\" onclick=\"convertToInteractive('df-a367988e-681e-4914-bbe5-a860a2b00aca')\"\n",
              "              title=\"Convert this dataframe to an interactive table.\"\n",
              "              style=\"display:none;\">\n",
              "        \n",
              "  <svg xmlns=\"http://www.w3.org/2000/svg\" height=\"24px\"viewBox=\"0 0 24 24\"\n",
              "       width=\"24px\">\n",
              "    <path d=\"M0 0h24v24H0V0z\" fill=\"none\"/>\n",
              "    <path d=\"M18.56 5.44l.94 2.06.94-2.06 2.06-.94-2.06-.94-.94-2.06-.94 2.06-2.06.94zm-11 1L8.5 8.5l.94-2.06 2.06-.94-2.06-.94L8.5 2.5l-.94 2.06-2.06.94zm10 10l.94 2.06.94-2.06 2.06-.94-2.06-.94-.94-2.06-.94 2.06-2.06.94z\"/><path d=\"M17.41 7.96l-1.37-1.37c-.4-.4-.92-.59-1.43-.59-.52 0-1.04.2-1.43.59L10.3 9.45l-7.72 7.72c-.78.78-.78 2.05 0 2.83L4 21.41c.39.39.9.59 1.41.59.51 0 1.02-.2 1.41-.59l7.78-7.78 2.81-2.81c.8-.78.8-2.07 0-2.86zM5.41 20L4 18.59l7.72-7.72 1.47 1.35L5.41 20z\"/>\n",
              "  </svg>\n",
              "      </button>\n",
              "      \n",
              "  <style>\n",
              "    .colab-df-container {\n",
              "      display:flex;\n",
              "      flex-wrap:wrap;\n",
              "      gap: 12px;\n",
              "    }\n",
              "\n",
              "    .colab-df-convert {\n",
              "      background-color: #E8F0FE;\n",
              "      border: none;\n",
              "      border-radius: 50%;\n",
              "      cursor: pointer;\n",
              "      display: none;\n",
              "      fill: #1967D2;\n",
              "      height: 32px;\n",
              "      padding: 0 0 0 0;\n",
              "      width: 32px;\n",
              "    }\n",
              "\n",
              "    .colab-df-convert:hover {\n",
              "      background-color: #E2EBFA;\n",
              "      box-shadow: 0px 1px 2px rgba(60, 64, 67, 0.3), 0px 1px 3px 1px rgba(60, 64, 67, 0.15);\n",
              "      fill: #174EA6;\n",
              "    }\n",
              "\n",
              "    [theme=dark] .colab-df-convert {\n",
              "      background-color: #3B4455;\n",
              "      fill: #D2E3FC;\n",
              "    }\n",
              "\n",
              "    [theme=dark] .colab-df-convert:hover {\n",
              "      background-color: #434B5C;\n",
              "      box-shadow: 0px 1px 3px 1px rgba(0, 0, 0, 0.15);\n",
              "      filter: drop-shadow(0px 1px 2px rgba(0, 0, 0, 0.3));\n",
              "      fill: #FFFFFF;\n",
              "    }\n",
              "  </style>\n",
              "\n",
              "      <script>\n",
              "        const buttonEl =\n",
              "          document.querySelector('#df-a367988e-681e-4914-bbe5-a860a2b00aca button.colab-df-convert');\n",
              "        buttonEl.style.display =\n",
              "          google.colab.kernel.accessAllowed ? 'block' : 'none';\n",
              "\n",
              "        async function convertToInteractive(key) {\n",
              "          const element = document.querySelector('#df-a367988e-681e-4914-bbe5-a860a2b00aca');\n",
              "          const dataTable =\n",
              "            await google.colab.kernel.invokeFunction('convertToInteractive',\n",
              "                                                     [key], {});\n",
              "          if (!dataTable) return;\n",
              "\n",
              "          const docLinkHtml = 'Like what you see? Visit the ' +\n",
              "            '<a target=\"_blank\" href=https://colab.research.google.com/notebooks/data_table.ipynb>data table notebook</a>'\n",
              "            + ' to learn more about interactive tables.';\n",
              "          element.innerHTML = '';\n",
              "          dataTable['output_type'] = 'display_data';\n",
              "          await google.colab.output.renderOutput(dataTable, element);\n",
              "          const docLink = document.createElement('div');\n",
              "          docLink.innerHTML = docLinkHtml;\n",
              "          element.appendChild(docLink);\n",
              "        }\n",
              "      </script>\n",
              "    </div>\n",
              "  </div>\n",
              "  "
            ]
          },
          "metadata": {},
          "execution_count": 10
        }
      ]
    },
    {
      "cell_type": "code",
      "source": [
        "test_set.head()"
      ],
      "metadata": {
        "colab": {
          "base_uri": "https://localhost:8080/",
          "height": 206
        },
        "id": "siEc1t6E-o-0",
        "outputId": "968ed79d-bc8d-406a-bdd4-965b69a50b6c"
      },
      "execution_count": 11,
      "outputs": [
        {
          "output_type": "execute_result",
          "data": {
            "text/plain": [
              "                                          image_path  \\\n",
              "0  /content/content/Donnes_patients/DATA/test/NIF...   \n",
              "1  /content/content/Donnes_patients/DATA/test/NIF...   \n",
              "2  /content/content/Donnes_patients/DATA/test/NIF...   \n",
              "3  /content/content/Donnes_patients/DATA/test/NIF...   \n",
              "4  /content/content/Donnes_patients/DATA/test/NIF...   \n",
              "\n",
              "                                           mask_path  \n",
              "0  /content/content/Donnes_patients/DATA/test/NIF...  \n",
              "1  /content/content/Donnes_patients/DATA/test/NIF...  \n",
              "2  /content/content/Donnes_patients/DATA/test/NIF...  \n",
              "3  /content/content/Donnes_patients/DATA/test/NIF...  \n",
              "4  /content/content/Donnes_patients/DATA/test/NIF...  "
            ],
            "text/html": [
              "\n",
              "  <div id=\"df-4aaf323d-3442-4dab-8832-084f87d913bd\">\n",
              "    <div class=\"colab-df-container\">\n",
              "      <div>\n",
              "<style scoped>\n",
              "    .dataframe tbody tr th:only-of-type {\n",
              "        vertical-align: middle;\n",
              "    }\n",
              "\n",
              "    .dataframe tbody tr th {\n",
              "        vertical-align: top;\n",
              "    }\n",
              "\n",
              "    .dataframe thead th {\n",
              "        text-align: right;\n",
              "    }\n",
              "</style>\n",
              "<table border=\"1\" class=\"dataframe\">\n",
              "  <thead>\n",
              "    <tr style=\"text-align: right;\">\n",
              "      <th></th>\n",
              "      <th>image_path</th>\n",
              "      <th>mask_path</th>\n",
              "    </tr>\n",
              "  </thead>\n",
              "  <tbody>\n",
              "    <tr>\n",
              "      <th>0</th>\n",
              "      <td>/content/content/Donnes_patients/DATA/test/NIF...</td>\n",
              "      <td>/content/content/Donnes_patients/DATA/test/NIF...</td>\n",
              "    </tr>\n",
              "    <tr>\n",
              "      <th>1</th>\n",
              "      <td>/content/content/Donnes_patients/DATA/test/NIF...</td>\n",
              "      <td>/content/content/Donnes_patients/DATA/test/NIF...</td>\n",
              "    </tr>\n",
              "    <tr>\n",
              "      <th>2</th>\n",
              "      <td>/content/content/Donnes_patients/DATA/test/NIF...</td>\n",
              "      <td>/content/content/Donnes_patients/DATA/test/NIF...</td>\n",
              "    </tr>\n",
              "    <tr>\n",
              "      <th>3</th>\n",
              "      <td>/content/content/Donnes_patients/DATA/test/NIF...</td>\n",
              "      <td>/content/content/Donnes_patients/DATA/test/NIF...</td>\n",
              "    </tr>\n",
              "    <tr>\n",
              "      <th>4</th>\n",
              "      <td>/content/content/Donnes_patients/DATA/test/NIF...</td>\n",
              "      <td>/content/content/Donnes_patients/DATA/test/NIF...</td>\n",
              "    </tr>\n",
              "  </tbody>\n",
              "</table>\n",
              "</div>\n",
              "      <button class=\"colab-df-convert\" onclick=\"convertToInteractive('df-4aaf323d-3442-4dab-8832-084f87d913bd')\"\n",
              "              title=\"Convert this dataframe to an interactive table.\"\n",
              "              style=\"display:none;\">\n",
              "        \n",
              "  <svg xmlns=\"http://www.w3.org/2000/svg\" height=\"24px\"viewBox=\"0 0 24 24\"\n",
              "       width=\"24px\">\n",
              "    <path d=\"M0 0h24v24H0V0z\" fill=\"none\"/>\n",
              "    <path d=\"M18.56 5.44l.94 2.06.94-2.06 2.06-.94-2.06-.94-.94-2.06-.94 2.06-2.06.94zm-11 1L8.5 8.5l.94-2.06 2.06-.94-2.06-.94L8.5 2.5l-.94 2.06-2.06.94zm10 10l.94 2.06.94-2.06 2.06-.94-2.06-.94-.94-2.06-.94 2.06-2.06.94z\"/><path d=\"M17.41 7.96l-1.37-1.37c-.4-.4-.92-.59-1.43-.59-.52 0-1.04.2-1.43.59L10.3 9.45l-7.72 7.72c-.78.78-.78 2.05 0 2.83L4 21.41c.39.39.9.59 1.41.59.51 0 1.02-.2 1.41-.59l7.78-7.78 2.81-2.81c.8-.78.8-2.07 0-2.86zM5.41 20L4 18.59l7.72-7.72 1.47 1.35L5.41 20z\"/>\n",
              "  </svg>\n",
              "      </button>\n",
              "      \n",
              "  <style>\n",
              "    .colab-df-container {\n",
              "      display:flex;\n",
              "      flex-wrap:wrap;\n",
              "      gap: 12px;\n",
              "    }\n",
              "\n",
              "    .colab-df-convert {\n",
              "      background-color: #E8F0FE;\n",
              "      border: none;\n",
              "      border-radius: 50%;\n",
              "      cursor: pointer;\n",
              "      display: none;\n",
              "      fill: #1967D2;\n",
              "      height: 32px;\n",
              "      padding: 0 0 0 0;\n",
              "      width: 32px;\n",
              "    }\n",
              "\n",
              "    .colab-df-convert:hover {\n",
              "      background-color: #E2EBFA;\n",
              "      box-shadow: 0px 1px 2px rgba(60, 64, 67, 0.3), 0px 1px 3px 1px rgba(60, 64, 67, 0.15);\n",
              "      fill: #174EA6;\n",
              "    }\n",
              "\n",
              "    [theme=dark] .colab-df-convert {\n",
              "      background-color: #3B4455;\n",
              "      fill: #D2E3FC;\n",
              "    }\n",
              "\n",
              "    [theme=dark] .colab-df-convert:hover {\n",
              "      background-color: #434B5C;\n",
              "      box-shadow: 0px 1px 3px 1px rgba(0, 0, 0, 0.15);\n",
              "      filter: drop-shadow(0px 1px 2px rgba(0, 0, 0, 0.3));\n",
              "      fill: #FFFFFF;\n",
              "    }\n",
              "  </style>\n",
              "\n",
              "      <script>\n",
              "        const buttonEl =\n",
              "          document.querySelector('#df-4aaf323d-3442-4dab-8832-084f87d913bd button.colab-df-convert');\n",
              "        buttonEl.style.display =\n",
              "          google.colab.kernel.accessAllowed ? 'block' : 'none';\n",
              "\n",
              "        async function convertToInteractive(key) {\n",
              "          const element = document.querySelector('#df-4aaf323d-3442-4dab-8832-084f87d913bd');\n",
              "          const dataTable =\n",
              "            await google.colab.kernel.invokeFunction('convertToInteractive',\n",
              "                                                     [key], {});\n",
              "          if (!dataTable) return;\n",
              "\n",
              "          const docLinkHtml = 'Like what you see? Visit the ' +\n",
              "            '<a target=\"_blank\" href=https://colab.research.google.com/notebooks/data_table.ipynb>data table notebook</a>'\n",
              "            + ' to learn more about interactive tables.';\n",
              "          element.innerHTML = '';\n",
              "          dataTable['output_type'] = 'display_data';\n",
              "          await google.colab.output.renderOutput(dataTable, element);\n",
              "          const docLink = document.createElement('div');\n",
              "          docLink.innerHTML = docLinkHtml;\n",
              "          element.appendChild(docLink);\n",
              "        }\n",
              "      </script>\n",
              "    </div>\n",
              "  </div>\n",
              "  "
            ]
          },
          "metadata": {},
          "execution_count": 11
        }
      ]
    },
    {
      "cell_type": "code",
      "source": [
        "#creating the data generators\n",
        "train_generator = DataGenerator(train_set)\n",
        "val_generator = DataGenerator(val_set)\n",
        "test_generator = DataGenerator(test_set)"
      ],
      "metadata": {
        "id": "GcPZP5myh62C"
      },
      "execution_count": 12,
      "outputs": []
    },
    {
      "cell_type": "markdown",
      "source": [
        "## Training\n",
        "Using segmentation models from Keras"
      ],
      "metadata": {
        "id": "2pA5lZULdINg"
      }
    },
    {
      "cell_type": "code",
      "source": [
        "from keras.layers import Dense, Dropout\n",
        "from keras.callbacks import *"
      ],
      "metadata": {
        "id": "8R7x7qvBNSbi"
      },
      "execution_count": 17,
      "outputs": []
    },
    {
      "cell_type": "code",
      "source": [
        "!pip3 install -U segmentation-models"
      ],
      "metadata": {
        "id": "FN1RgLn1-6Rx"
      },
      "execution_count": null,
      "outputs": []
    },
    {
      "cell_type": "code",
      "source": [
        "import tensorflow.keras.backend as K"
      ],
      "metadata": {
        "id": "KXoa6Tfn_cwr"
      },
      "execution_count": 18,
      "outputs": []
    },
    {
      "cell_type": "code",
      "source": [
        "import segmentation_models as sm\n",
        "\n",
        "sm.set_framework('tf.keras')\n",
        "\n",
        "sm.framework()"
      ],
      "metadata": {
        "colab": {
          "base_uri": "https://localhost:8080/",
          "height": 35
        },
        "id": "HxwSAdyLEn6s",
        "outputId": "d00baad6-a2f0-476a-b290-2b9b001032f6"
      },
      "execution_count": 19,
      "outputs": [
        {
          "output_type": "execute_result",
          "data": {
            "text/plain": [
              "'tf.keras'"
            ],
            "application/vnd.google.colaboratory.intrinsic+json": {
              "type": "string"
            }
          },
          "metadata": {},
          "execution_count": 19
        }
      ]
    },
    {
      "cell_type": "code",
      "source": [
        "callbacks = [\n",
        "    keras.callbacks.ModelCheckpoint('./best_model.h5', save_weights_only=True, save_best_only=True, mode='min'),\n",
        "    keras.callbacks.ReduceLROnPlateau(),\n",
        "]"
      ],
      "metadata": {
        "id": "QnKNbEZiIofM"
      },
      "execution_count": 20,
      "outputs": []
    },
    {
      "cell_type": "code",
      "source": [
        "BACKBONE = 'resnet34'\n",
        "BATCH_SIZE = 4\n",
        "CLASSES = ['LN']\n",
        "LR = 0.0001\n",
        "EPOCHS = 30\n",
        "input_shape = (512,512,3)\n",
        "preprocess_input = sm.get_preprocessing(BACKBONE)"
      ],
      "metadata": {
        "id": "mT2FZABtSYR_"
      },
      "execution_count": 21,
      "outputs": []
    },
    {
      "cell_type": "code",
      "source": [
        "# define network parameters\n",
        "n_classes = 1 if len(CLASSES) == 1 else (len(CLASSES) + 1)  # case for binary and multiclass segmentation\n",
        "activation = 'sigmoid' if n_classes == 1 else 'softmax'\n",
        "\n",
        "#create model\n",
        "model = sm.FPN(BACKBONE, classes=n_classes, activation=activation, input_shape=input_shape)"
      ],
      "metadata": {
        "id": "m6aj4E0MSYNW",
        "colab": {
          "base_uri": "https://localhost:8080/"
        },
        "outputId": "d8f68d60-ad63-44b8-f0b1-7eb64f844ca3"
      },
      "execution_count": 22,
      "outputs": [
        {
          "output_type": "stream",
          "name": "stdout",
          "text": [
            "Downloading data from https://github.com/qubvel/classification_models/releases/download/0.0.1/resnet34_imagenet_1000_no_top.h5\n",
            "85524480/85521592 [==============================] - 8s 0us/step\n",
            "85532672/85521592 [==============================] - 8s 0us/step\n"
          ]
        }
      ]
    },
    {
      "cell_type": "code",
      "source": [
        "# define optomizer\n",
        "optim = tf.keras.optimizers.Adam(LR)\n",
        "\n",
        "# Segmentation models losses can be combined together by '+' and scaled by integer or float factor\n",
        "\n",
        "dice_loss = sm.losses.DiceLoss()\n",
        "focal_loss = sm.losses.BinaryFocalLoss() if n_classes == 1 else sm.losses.CategoricalFocalLoss()\n",
        "total_loss = dice_loss + (1 * focal_loss)\n",
        "\n",
        "# actulally total_loss can be imported directly from library, above example just show you how to manipulate with losses\n",
        "# total_loss = sm.losses.binary_focal_dice_loss # or sm.losses.categorical_focal_dice_loss \n",
        "\n",
        "metrics = [sm.metrics.IOUScore(threshold=0.5), sm.metrics.FScore(threshold=0.5)]\n",
        "\n",
        "# compile keras model with defined optimozer, loss and metrics\n",
        "model.compile(optim, total_loss, metrics)"
      ],
      "metadata": {
        "id": "NURdv6kHSYK1"
      },
      "execution_count": 24,
      "outputs": []
    },
    {
      "cell_type": "code",
      "source": [
        "# check shapes for errors\n",
        "assert train_generator[0][0].shape == (BATCH_SIZE, 512, 512, 3)\n",
        "assert train_generator[0][1].shape == (BATCH_SIZE, 512, 512, n_classes)"
      ],
      "metadata": {
        "id": "B2dOWMUqbZWP"
      },
      "execution_count": null,
      "outputs": []
    },
    {
      "cell_type": "code",
      "source": [
        "model.summary()"
      ],
      "metadata": {
        "colab": {
          "base_uri": "https://localhost:8080/"
        },
        "id": "8VNjo5oqSYIo",
        "outputId": "5a49aa04-6f41-48c8-a4cc-7a0b5512a67e"
      },
      "execution_count": 25,
      "outputs": [
        {
          "output_type": "stream",
          "name": "stdout",
          "text": [
            "Model: \"model_1\"\n",
            "__________________________________________________________________________________________________\n",
            " Layer (type)                   Output Shape         Param #     Connected to                     \n",
            "==================================================================================================\n",
            " data (InputLayer)              [(None, 512, 512, 3  0           []                               \n",
            "                                )]                                                                \n",
            "                                                                                                  \n",
            " bn_data (BatchNormalization)   (None, 512, 512, 3)  9           ['data[0][0]']                   \n",
            "                                                                                                  \n",
            " zero_padding2d (ZeroPadding2D)  (None, 518, 518, 3)  0          ['bn_data[0][0]']                \n",
            "                                                                                                  \n",
            " conv0 (Conv2D)                 (None, 256, 256, 64  9408        ['zero_padding2d[0][0]']         \n",
            "                                )                                                                 \n",
            "                                                                                                  \n",
            " bn0 (BatchNormalization)       (None, 256, 256, 64  256         ['conv0[0][0]']                  \n",
            "                                )                                                                 \n",
            "                                                                                                  \n",
            " relu0 (Activation)             (None, 256, 256, 64  0           ['bn0[0][0]']                    \n",
            "                                )                                                                 \n",
            "                                                                                                  \n",
            " zero_padding2d_1 (ZeroPadding2  (None, 258, 258, 64  0          ['relu0[0][0]']                  \n",
            " D)                             )                                                                 \n",
            "                                                                                                  \n",
            " pooling0 (MaxPooling2D)        (None, 128, 128, 64  0           ['zero_padding2d_1[0][0]']       \n",
            "                                )                                                                 \n",
            "                                                                                                  \n",
            " stage1_unit1_bn1 (BatchNormali  (None, 128, 128, 64  256        ['pooling0[0][0]']               \n",
            " zation)                        )                                                                 \n",
            "                                                                                                  \n",
            " stage1_unit1_relu1 (Activation  (None, 128, 128, 64  0          ['stage1_unit1_bn1[0][0]']       \n",
            " )                              )                                                                 \n",
            "                                                                                                  \n",
            " zero_padding2d_2 (ZeroPadding2  (None, 130, 130, 64  0          ['stage1_unit1_relu1[0][0]']     \n",
            " D)                             )                                                                 \n",
            "                                                                                                  \n",
            " stage1_unit1_conv1 (Conv2D)    (None, 128, 128, 64  36864       ['zero_padding2d_2[0][0]']       \n",
            "                                )                                                                 \n",
            "                                                                                                  \n",
            " stage1_unit1_bn2 (BatchNormali  (None, 128, 128, 64  256        ['stage1_unit1_conv1[0][0]']     \n",
            " zation)                        )                                                                 \n",
            "                                                                                                  \n",
            " stage1_unit1_relu2 (Activation  (None, 128, 128, 64  0          ['stage1_unit1_bn2[0][0]']       \n",
            " )                              )                                                                 \n",
            "                                                                                                  \n",
            " zero_padding2d_3 (ZeroPadding2  (None, 130, 130, 64  0          ['stage1_unit1_relu2[0][0]']     \n",
            " D)                             )                                                                 \n",
            "                                                                                                  \n",
            " stage1_unit1_conv2 (Conv2D)    (None, 128, 128, 64  36864       ['zero_padding2d_3[0][0]']       \n",
            "                                )                                                                 \n",
            "                                                                                                  \n",
            " stage1_unit1_sc (Conv2D)       (None, 128, 128, 64  4096        ['stage1_unit1_relu1[0][0]']     \n",
            "                                )                                                                 \n",
            "                                                                                                  \n",
            " add (Add)                      (None, 128, 128, 64  0           ['stage1_unit1_conv2[0][0]',     \n",
            "                                )                                 'stage1_unit1_sc[0][0]']        \n",
            "                                                                                                  \n",
            " stage1_unit2_bn1 (BatchNormali  (None, 128, 128, 64  256        ['add[0][0]']                    \n",
            " zation)                        )                                                                 \n",
            "                                                                                                  \n",
            " stage1_unit2_relu1 (Activation  (None, 128, 128, 64  0          ['stage1_unit2_bn1[0][0]']       \n",
            " )                              )                                                                 \n",
            "                                                                                                  \n",
            " zero_padding2d_4 (ZeroPadding2  (None, 130, 130, 64  0          ['stage1_unit2_relu1[0][0]']     \n",
            " D)                             )                                                                 \n",
            "                                                                                                  \n",
            " stage1_unit2_conv1 (Conv2D)    (None, 128, 128, 64  36864       ['zero_padding2d_4[0][0]']       \n",
            "                                )                                                                 \n",
            "                                                                                                  \n",
            " stage1_unit2_bn2 (BatchNormali  (None, 128, 128, 64  256        ['stage1_unit2_conv1[0][0]']     \n",
            " zation)                        )                                                                 \n",
            "                                                                                                  \n",
            " stage1_unit2_relu2 (Activation  (None, 128, 128, 64  0          ['stage1_unit2_bn2[0][0]']       \n",
            " )                              )                                                                 \n",
            "                                                                                                  \n",
            " zero_padding2d_5 (ZeroPadding2  (None, 130, 130, 64  0          ['stage1_unit2_relu2[0][0]']     \n",
            " D)                             )                                                                 \n",
            "                                                                                                  \n",
            " stage1_unit2_conv2 (Conv2D)    (None, 128, 128, 64  36864       ['zero_padding2d_5[0][0]']       \n",
            "                                )                                                                 \n",
            "                                                                                                  \n",
            " add_1 (Add)                    (None, 128, 128, 64  0           ['stage1_unit2_conv2[0][0]',     \n",
            "                                )                                 'add[0][0]']                    \n",
            "                                                                                                  \n",
            " stage1_unit3_bn1 (BatchNormali  (None, 128, 128, 64  256        ['add_1[0][0]']                  \n",
            " zation)                        )                                                                 \n",
            "                                                                                                  \n",
            " stage1_unit3_relu1 (Activation  (None, 128, 128, 64  0          ['stage1_unit3_bn1[0][0]']       \n",
            " )                              )                                                                 \n",
            "                                                                                                  \n",
            " zero_padding2d_6 (ZeroPadding2  (None, 130, 130, 64  0          ['stage1_unit3_relu1[0][0]']     \n",
            " D)                             )                                                                 \n",
            "                                                                                                  \n",
            " stage1_unit3_conv1 (Conv2D)    (None, 128, 128, 64  36864       ['zero_padding2d_6[0][0]']       \n",
            "                                )                                                                 \n",
            "                                                                                                  \n",
            " stage1_unit3_bn2 (BatchNormali  (None, 128, 128, 64  256        ['stage1_unit3_conv1[0][0]']     \n",
            " zation)                        )                                                                 \n",
            "                                                                                                  \n",
            " stage1_unit3_relu2 (Activation  (None, 128, 128, 64  0          ['stage1_unit3_bn2[0][0]']       \n",
            " )                              )                                                                 \n",
            "                                                                                                  \n",
            " zero_padding2d_7 (ZeroPadding2  (None, 130, 130, 64  0          ['stage1_unit3_relu2[0][0]']     \n",
            " D)                             )                                                                 \n",
            "                                                                                                  \n",
            " stage1_unit3_conv2 (Conv2D)    (None, 128, 128, 64  36864       ['zero_padding2d_7[0][0]']       \n",
            "                                )                                                                 \n",
            "                                                                                                  \n",
            " add_2 (Add)                    (None, 128, 128, 64  0           ['stage1_unit3_conv2[0][0]',     \n",
            "                                )                                 'add_1[0][0]']                  \n",
            "                                                                                                  \n",
            " stage2_unit1_bn1 (BatchNormali  (None, 128, 128, 64  256        ['add_2[0][0]']                  \n",
            " zation)                        )                                                                 \n",
            "                                                                                                  \n",
            " stage2_unit1_relu1 (Activation  (None, 128, 128, 64  0          ['stage2_unit1_bn1[0][0]']       \n",
            " )                              )                                                                 \n",
            "                                                                                                  \n",
            " zero_padding2d_8 (ZeroPadding2  (None, 130, 130, 64  0          ['stage2_unit1_relu1[0][0]']     \n",
            " D)                             )                                                                 \n",
            "                                                                                                  \n",
            " stage2_unit1_conv1 (Conv2D)    (None, 64, 64, 128)  73728       ['zero_padding2d_8[0][0]']       \n",
            "                                                                                                  \n",
            " stage2_unit1_bn2 (BatchNormali  (None, 64, 64, 128)  512        ['stage2_unit1_conv1[0][0]']     \n",
            " zation)                                                                                          \n",
            "                                                                                                  \n",
            " stage2_unit1_relu2 (Activation  (None, 64, 64, 128)  0          ['stage2_unit1_bn2[0][0]']       \n",
            " )                                                                                                \n",
            "                                                                                                  \n",
            " zero_padding2d_9 (ZeroPadding2  (None, 66, 66, 128)  0          ['stage2_unit1_relu2[0][0]']     \n",
            " D)                                                                                               \n",
            "                                                                                                  \n",
            " stage2_unit1_conv2 (Conv2D)    (None, 64, 64, 128)  147456      ['zero_padding2d_9[0][0]']       \n",
            "                                                                                                  \n",
            " stage2_unit1_sc (Conv2D)       (None, 64, 64, 128)  8192        ['stage2_unit1_relu1[0][0]']     \n",
            "                                                                                                  \n",
            " add_3 (Add)                    (None, 64, 64, 128)  0           ['stage2_unit1_conv2[0][0]',     \n",
            "                                                                  'stage2_unit1_sc[0][0]']        \n",
            "                                                                                                  \n",
            " stage2_unit2_bn1 (BatchNormali  (None, 64, 64, 128)  512        ['add_3[0][0]']                  \n",
            " zation)                                                                                          \n",
            "                                                                                                  \n",
            " stage2_unit2_relu1 (Activation  (None, 64, 64, 128)  0          ['stage2_unit2_bn1[0][0]']       \n",
            " )                                                                                                \n",
            "                                                                                                  \n",
            " zero_padding2d_10 (ZeroPadding  (None, 66, 66, 128)  0          ['stage2_unit2_relu1[0][0]']     \n",
            " 2D)                                                                                              \n",
            "                                                                                                  \n",
            " stage2_unit2_conv1 (Conv2D)    (None, 64, 64, 128)  147456      ['zero_padding2d_10[0][0]']      \n",
            "                                                                                                  \n",
            " stage2_unit2_bn2 (BatchNormali  (None, 64, 64, 128)  512        ['stage2_unit2_conv1[0][0]']     \n",
            " zation)                                                                                          \n",
            "                                                                                                  \n",
            " stage2_unit2_relu2 (Activation  (None, 64, 64, 128)  0          ['stage2_unit2_bn2[0][0]']       \n",
            " )                                                                                                \n",
            "                                                                                                  \n",
            " zero_padding2d_11 (ZeroPadding  (None, 66, 66, 128)  0          ['stage2_unit2_relu2[0][0]']     \n",
            " 2D)                                                                                              \n",
            "                                                                                                  \n",
            " stage2_unit2_conv2 (Conv2D)    (None, 64, 64, 128)  147456      ['zero_padding2d_11[0][0]']      \n",
            "                                                                                                  \n",
            " add_4 (Add)                    (None, 64, 64, 128)  0           ['stage2_unit2_conv2[0][0]',     \n",
            "                                                                  'add_3[0][0]']                  \n",
            "                                                                                                  \n",
            " stage2_unit3_bn1 (BatchNormali  (None, 64, 64, 128)  512        ['add_4[0][0]']                  \n",
            " zation)                                                                                          \n",
            "                                                                                                  \n",
            " stage2_unit3_relu1 (Activation  (None, 64, 64, 128)  0          ['stage2_unit3_bn1[0][0]']       \n",
            " )                                                                                                \n",
            "                                                                                                  \n",
            " zero_padding2d_12 (ZeroPadding  (None, 66, 66, 128)  0          ['stage2_unit3_relu1[0][0]']     \n",
            " 2D)                                                                                              \n",
            "                                                                                                  \n",
            " stage2_unit3_conv1 (Conv2D)    (None, 64, 64, 128)  147456      ['zero_padding2d_12[0][0]']      \n",
            "                                                                                                  \n",
            " stage2_unit3_bn2 (BatchNormali  (None, 64, 64, 128)  512        ['stage2_unit3_conv1[0][0]']     \n",
            " zation)                                                                                          \n",
            "                                                                                                  \n",
            " stage2_unit3_relu2 (Activation  (None, 64, 64, 128)  0          ['stage2_unit3_bn2[0][0]']       \n",
            " )                                                                                                \n",
            "                                                                                                  \n",
            " zero_padding2d_13 (ZeroPadding  (None, 66, 66, 128)  0          ['stage2_unit3_relu2[0][0]']     \n",
            " 2D)                                                                                              \n",
            "                                                                                                  \n",
            " stage2_unit3_conv2 (Conv2D)    (None, 64, 64, 128)  147456      ['zero_padding2d_13[0][0]']      \n",
            "                                                                                                  \n",
            " add_5 (Add)                    (None, 64, 64, 128)  0           ['stage2_unit3_conv2[0][0]',     \n",
            "                                                                  'add_4[0][0]']                  \n",
            "                                                                                                  \n",
            " stage2_unit4_bn1 (BatchNormali  (None, 64, 64, 128)  512        ['add_5[0][0]']                  \n",
            " zation)                                                                                          \n",
            "                                                                                                  \n",
            " stage2_unit4_relu1 (Activation  (None, 64, 64, 128)  0          ['stage2_unit4_bn1[0][0]']       \n",
            " )                                                                                                \n",
            "                                                                                                  \n",
            " zero_padding2d_14 (ZeroPadding  (None, 66, 66, 128)  0          ['stage2_unit4_relu1[0][0]']     \n",
            " 2D)                                                                                              \n",
            "                                                                                                  \n",
            " stage2_unit4_conv1 (Conv2D)    (None, 64, 64, 128)  147456      ['zero_padding2d_14[0][0]']      \n",
            "                                                                                                  \n",
            " stage2_unit4_bn2 (BatchNormali  (None, 64, 64, 128)  512        ['stage2_unit4_conv1[0][0]']     \n",
            " zation)                                                                                          \n",
            "                                                                                                  \n",
            " stage2_unit4_relu2 (Activation  (None, 64, 64, 128)  0          ['stage2_unit4_bn2[0][0]']       \n",
            " )                                                                                                \n",
            "                                                                                                  \n",
            " zero_padding2d_15 (ZeroPadding  (None, 66, 66, 128)  0          ['stage2_unit4_relu2[0][0]']     \n",
            " 2D)                                                                                              \n",
            "                                                                                                  \n",
            " stage2_unit4_conv2 (Conv2D)    (None, 64, 64, 128)  147456      ['zero_padding2d_15[0][0]']      \n",
            "                                                                                                  \n",
            " add_6 (Add)                    (None, 64, 64, 128)  0           ['stage2_unit4_conv2[0][0]',     \n",
            "                                                                  'add_5[0][0]']                  \n",
            "                                                                                                  \n",
            " stage3_unit1_bn1 (BatchNormali  (None, 64, 64, 128)  512        ['add_6[0][0]']                  \n",
            " zation)                                                                                          \n",
            "                                                                                                  \n",
            " stage3_unit1_relu1 (Activation  (None, 64, 64, 128)  0          ['stage3_unit1_bn1[0][0]']       \n",
            " )                                                                                                \n",
            "                                                                                                  \n",
            " zero_padding2d_16 (ZeroPadding  (None, 66, 66, 128)  0          ['stage3_unit1_relu1[0][0]']     \n",
            " 2D)                                                                                              \n",
            "                                                                                                  \n",
            " stage3_unit1_conv1 (Conv2D)    (None, 32, 32, 256)  294912      ['zero_padding2d_16[0][0]']      \n",
            "                                                                                                  \n",
            " stage3_unit1_bn2 (BatchNormali  (None, 32, 32, 256)  1024       ['stage3_unit1_conv1[0][0]']     \n",
            " zation)                                                                                          \n",
            "                                                                                                  \n",
            " stage3_unit1_relu2 (Activation  (None, 32, 32, 256)  0          ['stage3_unit1_bn2[0][0]']       \n",
            " )                                                                                                \n",
            "                                                                                                  \n",
            " zero_padding2d_17 (ZeroPadding  (None, 34, 34, 256)  0          ['stage3_unit1_relu2[0][0]']     \n",
            " 2D)                                                                                              \n",
            "                                                                                                  \n",
            " stage3_unit1_conv2 (Conv2D)    (None, 32, 32, 256)  589824      ['zero_padding2d_17[0][0]']      \n",
            "                                                                                                  \n",
            " stage3_unit1_sc (Conv2D)       (None, 32, 32, 256)  32768       ['stage3_unit1_relu1[0][0]']     \n",
            "                                                                                                  \n",
            " add_7 (Add)                    (None, 32, 32, 256)  0           ['stage3_unit1_conv2[0][0]',     \n",
            "                                                                  'stage3_unit1_sc[0][0]']        \n",
            "                                                                                                  \n",
            " stage3_unit2_bn1 (BatchNormali  (None, 32, 32, 256)  1024       ['add_7[0][0]']                  \n",
            " zation)                                                                                          \n",
            "                                                                                                  \n",
            " stage3_unit2_relu1 (Activation  (None, 32, 32, 256)  0          ['stage3_unit2_bn1[0][0]']       \n",
            " )                                                                                                \n",
            "                                                                                                  \n",
            " zero_padding2d_18 (ZeroPadding  (None, 34, 34, 256)  0          ['stage3_unit2_relu1[0][0]']     \n",
            " 2D)                                                                                              \n",
            "                                                                                                  \n",
            " stage3_unit2_conv1 (Conv2D)    (None, 32, 32, 256)  589824      ['zero_padding2d_18[0][0]']      \n",
            "                                                                                                  \n",
            " stage3_unit2_bn2 (BatchNormali  (None, 32, 32, 256)  1024       ['stage3_unit2_conv1[0][0]']     \n",
            " zation)                                                                                          \n",
            "                                                                                                  \n",
            " stage3_unit2_relu2 (Activation  (None, 32, 32, 256)  0          ['stage3_unit2_bn2[0][0]']       \n",
            " )                                                                                                \n",
            "                                                                                                  \n",
            " zero_padding2d_19 (ZeroPadding  (None, 34, 34, 256)  0          ['stage3_unit2_relu2[0][0]']     \n",
            " 2D)                                                                                              \n",
            "                                                                                                  \n",
            " stage3_unit2_conv2 (Conv2D)    (None, 32, 32, 256)  589824      ['zero_padding2d_19[0][0]']      \n",
            "                                                                                                  \n",
            " add_8 (Add)                    (None, 32, 32, 256)  0           ['stage3_unit2_conv2[0][0]',     \n",
            "                                                                  'add_7[0][0]']                  \n",
            "                                                                                                  \n",
            " stage3_unit3_bn1 (BatchNormali  (None, 32, 32, 256)  1024       ['add_8[0][0]']                  \n",
            " zation)                                                                                          \n",
            "                                                                                                  \n",
            " stage3_unit3_relu1 (Activation  (None, 32, 32, 256)  0          ['stage3_unit3_bn1[0][0]']       \n",
            " )                                                                                                \n",
            "                                                                                                  \n",
            " zero_padding2d_20 (ZeroPadding  (None, 34, 34, 256)  0          ['stage3_unit3_relu1[0][0]']     \n",
            " 2D)                                                                                              \n",
            "                                                                                                  \n",
            " stage3_unit3_conv1 (Conv2D)    (None, 32, 32, 256)  589824      ['zero_padding2d_20[0][0]']      \n",
            "                                                                                                  \n",
            " stage3_unit3_bn2 (BatchNormali  (None, 32, 32, 256)  1024       ['stage3_unit3_conv1[0][0]']     \n",
            " zation)                                                                                          \n",
            "                                                                                                  \n",
            " stage3_unit3_relu2 (Activation  (None, 32, 32, 256)  0          ['stage3_unit3_bn2[0][0]']       \n",
            " )                                                                                                \n",
            "                                                                                                  \n",
            " zero_padding2d_21 (ZeroPadding  (None, 34, 34, 256)  0          ['stage3_unit3_relu2[0][0]']     \n",
            " 2D)                                                                                              \n",
            "                                                                                                  \n",
            " stage3_unit3_conv2 (Conv2D)    (None, 32, 32, 256)  589824      ['zero_padding2d_21[0][0]']      \n",
            "                                                                                                  \n",
            " add_9 (Add)                    (None, 32, 32, 256)  0           ['stage3_unit3_conv2[0][0]',     \n",
            "                                                                  'add_8[0][0]']                  \n",
            "                                                                                                  \n",
            " stage3_unit4_bn1 (BatchNormali  (None, 32, 32, 256)  1024       ['add_9[0][0]']                  \n",
            " zation)                                                                                          \n",
            "                                                                                                  \n",
            " stage3_unit4_relu1 (Activation  (None, 32, 32, 256)  0          ['stage3_unit4_bn1[0][0]']       \n",
            " )                                                                                                \n",
            "                                                                                                  \n",
            " zero_padding2d_22 (ZeroPadding  (None, 34, 34, 256)  0          ['stage3_unit4_relu1[0][0]']     \n",
            " 2D)                                                                                              \n",
            "                                                                                                  \n",
            " stage3_unit4_conv1 (Conv2D)    (None, 32, 32, 256)  589824      ['zero_padding2d_22[0][0]']      \n",
            "                                                                                                  \n",
            " stage3_unit4_bn2 (BatchNormali  (None, 32, 32, 256)  1024       ['stage3_unit4_conv1[0][0]']     \n",
            " zation)                                                                                          \n",
            "                                                                                                  \n",
            " stage3_unit4_relu2 (Activation  (None, 32, 32, 256)  0          ['stage3_unit4_bn2[0][0]']       \n",
            " )                                                                                                \n",
            "                                                                                                  \n",
            " zero_padding2d_23 (ZeroPadding  (None, 34, 34, 256)  0          ['stage3_unit4_relu2[0][0]']     \n",
            " 2D)                                                                                              \n",
            "                                                                                                  \n",
            " stage3_unit4_conv2 (Conv2D)    (None, 32, 32, 256)  589824      ['zero_padding2d_23[0][0]']      \n",
            "                                                                                                  \n",
            " add_10 (Add)                   (None, 32, 32, 256)  0           ['stage3_unit4_conv2[0][0]',     \n",
            "                                                                  'add_9[0][0]']                  \n",
            "                                                                                                  \n",
            " stage3_unit5_bn1 (BatchNormali  (None, 32, 32, 256)  1024       ['add_10[0][0]']                 \n",
            " zation)                                                                                          \n",
            "                                                                                                  \n",
            " stage3_unit5_relu1 (Activation  (None, 32, 32, 256)  0          ['stage3_unit5_bn1[0][0]']       \n",
            " )                                                                                                \n",
            "                                                                                                  \n",
            " zero_padding2d_24 (ZeroPadding  (None, 34, 34, 256)  0          ['stage3_unit5_relu1[0][0]']     \n",
            " 2D)                                                                                              \n",
            "                                                                                                  \n",
            " stage3_unit5_conv1 (Conv2D)    (None, 32, 32, 256)  589824      ['zero_padding2d_24[0][0]']      \n",
            "                                                                                                  \n",
            " stage3_unit5_bn2 (BatchNormali  (None, 32, 32, 256)  1024       ['stage3_unit5_conv1[0][0]']     \n",
            " zation)                                                                                          \n",
            "                                                                                                  \n",
            " stage3_unit5_relu2 (Activation  (None, 32, 32, 256)  0          ['stage3_unit5_bn2[0][0]']       \n",
            " )                                                                                                \n",
            "                                                                                                  \n",
            " zero_padding2d_25 (ZeroPadding  (None, 34, 34, 256)  0          ['stage3_unit5_relu2[0][0]']     \n",
            " 2D)                                                                                              \n",
            "                                                                                                  \n",
            " stage3_unit5_conv2 (Conv2D)    (None, 32, 32, 256)  589824      ['zero_padding2d_25[0][0]']      \n",
            "                                                                                                  \n",
            " add_11 (Add)                   (None, 32, 32, 256)  0           ['stage3_unit5_conv2[0][0]',     \n",
            "                                                                  'add_10[0][0]']                 \n",
            "                                                                                                  \n",
            " stage3_unit6_bn1 (BatchNormali  (None, 32, 32, 256)  1024       ['add_11[0][0]']                 \n",
            " zation)                                                                                          \n",
            "                                                                                                  \n",
            " stage3_unit6_relu1 (Activation  (None, 32, 32, 256)  0          ['stage3_unit6_bn1[0][0]']       \n",
            " )                                                                                                \n",
            "                                                                                                  \n",
            " zero_padding2d_26 (ZeroPadding  (None, 34, 34, 256)  0          ['stage3_unit6_relu1[0][0]']     \n",
            " 2D)                                                                                              \n",
            "                                                                                                  \n",
            " stage3_unit6_conv1 (Conv2D)    (None, 32, 32, 256)  589824      ['zero_padding2d_26[0][0]']      \n",
            "                                                                                                  \n",
            " stage3_unit6_bn2 (BatchNormali  (None, 32, 32, 256)  1024       ['stage3_unit6_conv1[0][0]']     \n",
            " zation)                                                                                          \n",
            "                                                                                                  \n",
            " stage3_unit6_relu2 (Activation  (None, 32, 32, 256)  0          ['stage3_unit6_bn2[0][0]']       \n",
            " )                                                                                                \n",
            "                                                                                                  \n",
            " zero_padding2d_27 (ZeroPadding  (None, 34, 34, 256)  0          ['stage3_unit6_relu2[0][0]']     \n",
            " 2D)                                                                                              \n",
            "                                                                                                  \n",
            " stage3_unit6_conv2 (Conv2D)    (None, 32, 32, 256)  589824      ['zero_padding2d_27[0][0]']      \n",
            "                                                                                                  \n",
            " add_12 (Add)                   (None, 32, 32, 256)  0           ['stage3_unit6_conv2[0][0]',     \n",
            "                                                                  'add_11[0][0]']                 \n",
            "                                                                                                  \n",
            " stage4_unit1_bn1 (BatchNormali  (None, 32, 32, 256)  1024       ['add_12[0][0]']                 \n",
            " zation)                                                                                          \n",
            "                                                                                                  \n",
            " stage4_unit1_relu1 (Activation  (None, 32, 32, 256)  0          ['stage4_unit1_bn1[0][0]']       \n",
            " )                                                                                                \n",
            "                                                                                                  \n",
            " zero_padding2d_28 (ZeroPadding  (None, 34, 34, 256)  0          ['stage4_unit1_relu1[0][0]']     \n",
            " 2D)                                                                                              \n",
            "                                                                                                  \n",
            " stage4_unit1_conv1 (Conv2D)    (None, 16, 16, 512)  1179648     ['zero_padding2d_28[0][0]']      \n",
            "                                                                                                  \n",
            " stage4_unit1_bn2 (BatchNormali  (None, 16, 16, 512)  2048       ['stage4_unit1_conv1[0][0]']     \n",
            " zation)                                                                                          \n",
            "                                                                                                  \n",
            " stage4_unit1_relu2 (Activation  (None, 16, 16, 512)  0          ['stage4_unit1_bn2[0][0]']       \n",
            " )                                                                                                \n",
            "                                                                                                  \n",
            " zero_padding2d_29 (ZeroPadding  (None, 18, 18, 512)  0          ['stage4_unit1_relu2[0][0]']     \n",
            " 2D)                                                                                              \n",
            "                                                                                                  \n",
            " stage4_unit1_conv2 (Conv2D)    (None, 16, 16, 512)  2359296     ['zero_padding2d_29[0][0]']      \n",
            "                                                                                                  \n",
            " stage4_unit1_sc (Conv2D)       (None, 16, 16, 512)  131072      ['stage4_unit1_relu1[0][0]']     \n",
            "                                                                                                  \n",
            " add_13 (Add)                   (None, 16, 16, 512)  0           ['stage4_unit1_conv2[0][0]',     \n",
            "                                                                  'stage4_unit1_sc[0][0]']        \n",
            "                                                                                                  \n",
            " stage4_unit2_bn1 (BatchNormali  (None, 16, 16, 512)  2048       ['add_13[0][0]']                 \n",
            " zation)                                                                                          \n",
            "                                                                                                  \n",
            " stage4_unit2_relu1 (Activation  (None, 16, 16, 512)  0          ['stage4_unit2_bn1[0][0]']       \n",
            " )                                                                                                \n",
            "                                                                                                  \n",
            " zero_padding2d_30 (ZeroPadding  (None, 18, 18, 512)  0          ['stage4_unit2_relu1[0][0]']     \n",
            " 2D)                                                                                              \n",
            "                                                                                                  \n",
            " stage4_unit2_conv1 (Conv2D)    (None, 16, 16, 512)  2359296     ['zero_padding2d_30[0][0]']      \n",
            "                                                                                                  \n",
            " stage4_unit2_bn2 (BatchNormali  (None, 16, 16, 512)  2048       ['stage4_unit2_conv1[0][0]']     \n",
            " zation)                                                                                          \n",
            "                                                                                                  \n",
            " stage4_unit2_relu2 (Activation  (None, 16, 16, 512)  0          ['stage4_unit2_bn2[0][0]']       \n",
            " )                                                                                                \n",
            "                                                                                                  \n",
            " zero_padding2d_31 (ZeroPadding  (None, 18, 18, 512)  0          ['stage4_unit2_relu2[0][0]']     \n",
            " 2D)                                                                                              \n",
            "                                                                                                  \n",
            " stage4_unit2_conv2 (Conv2D)    (None, 16, 16, 512)  2359296     ['zero_padding2d_31[0][0]']      \n",
            "                                                                                                  \n",
            " add_14 (Add)                   (None, 16, 16, 512)  0           ['stage4_unit2_conv2[0][0]',     \n",
            "                                                                  'add_13[0][0]']                 \n",
            "                                                                                                  \n",
            " stage4_unit3_bn1 (BatchNormali  (None, 16, 16, 512)  2048       ['add_14[0][0]']                 \n",
            " zation)                                                                                          \n",
            "                                                                                                  \n",
            " stage4_unit3_relu1 (Activation  (None, 16, 16, 512)  0          ['stage4_unit3_bn1[0][0]']       \n",
            " )                                                                                                \n",
            "                                                                                                  \n",
            " zero_padding2d_32 (ZeroPadding  (None, 18, 18, 512)  0          ['stage4_unit3_relu1[0][0]']     \n",
            " 2D)                                                                                              \n",
            "                                                                                                  \n",
            " stage4_unit3_conv1 (Conv2D)    (None, 16, 16, 512)  2359296     ['zero_padding2d_32[0][0]']      \n",
            "                                                                                                  \n",
            " stage4_unit3_bn2 (BatchNormali  (None, 16, 16, 512)  2048       ['stage4_unit3_conv1[0][0]']     \n",
            " zation)                                                                                          \n",
            "                                                                                                  \n",
            " stage4_unit3_relu2 (Activation  (None, 16, 16, 512)  0          ['stage4_unit3_bn2[0][0]']       \n",
            " )                                                                                                \n",
            "                                                                                                  \n",
            " zero_padding2d_33 (ZeroPadding  (None, 18, 18, 512)  0          ['stage4_unit3_relu2[0][0]']     \n",
            " 2D)                                                                                              \n",
            "                                                                                                  \n",
            " stage4_unit3_conv2 (Conv2D)    (None, 16, 16, 512)  2359296     ['zero_padding2d_33[0][0]']      \n",
            "                                                                                                  \n",
            " add_15 (Add)                   (None, 16, 16, 512)  0           ['stage4_unit3_conv2[0][0]',     \n",
            "                                                                  'add_14[0][0]']                 \n",
            "                                                                                                  \n",
            " bn1 (BatchNormalization)       (None, 16, 16, 512)  2048        ['add_15[0][0]']                 \n",
            "                                                                                                  \n",
            " relu1 (Activation)             (None, 16, 16, 512)  0           ['bn1[0][0]']                    \n",
            "                                                                                                  \n",
            " fpn_stage_p5_pre_conv (Conv2D)  (None, 16, 16, 256)  131328     ['relu1[0][0]']                  \n",
            "                                                                                                  \n",
            " fpn_stage_p5_upsampling (UpSam  (None, 32, 32, 256)  0          ['fpn_stage_p5_pre_conv[0][0]']  \n",
            " pling2D)                                                                                         \n",
            "                                                                                                  \n",
            " fpn_stage_p5_conv (Conv2D)     (None, 32, 32, 256)  65792       ['stage4_unit1_relu1[0][0]']     \n",
            "                                                                                                  \n",
            " fpn_stage_p5_add (Add)         (None, 32, 32, 256)  0           ['fpn_stage_p5_upsampling[0][0]',\n",
            "                                                                  'fpn_stage_p5_conv[0][0]']      \n",
            "                                                                                                  \n",
            " fpn_stage_p4_upsampling (UpSam  (None, 64, 64, 256)  0          ['fpn_stage_p5_add[0][0]']       \n",
            " pling2D)                                                                                         \n",
            "                                                                                                  \n",
            " fpn_stage_p4_conv (Conv2D)     (None, 64, 64, 256)  33024       ['stage3_unit1_relu1[0][0]']     \n",
            "                                                                                                  \n",
            " fpn_stage_p4_add (Add)         (None, 64, 64, 256)  0           ['fpn_stage_p4_upsampling[0][0]',\n",
            "                                                                  'fpn_stage_p4_conv[0][0]']      \n",
            "                                                                                                  \n",
            " fpn_stage_p3_upsampling (UpSam  (None, 128, 128, 25  0          ['fpn_stage_p4_add[0][0]']       \n",
            " pling2D)                       6)                                                                \n",
            "                                                                                                  \n",
            " fpn_stage_p3_conv (Conv2D)     (None, 128, 128, 25  16640       ['stage2_unit1_relu1[0][0]']     \n",
            "                                6)                                                                \n",
            "                                                                                                  \n",
            " fpn_stage_p3_add (Add)         (None, 128, 128, 25  0           ['fpn_stage_p3_upsampling[0][0]',\n",
            "                                6)                                'fpn_stage_p3_conv[0][0]']      \n",
            "                                                                                                  \n",
            " fpn_stage_p2_upsampling (UpSam  (None, 256, 256, 25  0          ['fpn_stage_p3_add[0][0]']       \n",
            " pling2D)                       6)                                                                \n",
            "                                                                                                  \n",
            " fpn_stage_p2_conv (Conv2D)     (None, 256, 256, 25  16640       ['relu0[0][0]']                  \n",
            "                                6)                                                                \n",
            "                                                                                                  \n",
            " fpn_stage_p2_add (Add)         (None, 256, 256, 25  0           ['fpn_stage_p2_upsampling[0][0]',\n",
            "                                6)                                'fpn_stage_p2_conv[0][0]']      \n",
            "                                                                                                  \n",
            " segm_stage3a_conv (Conv2D)     (None, 128, 128, 12  294912      ['fpn_stage_p3_add[0][0]']       \n",
            "                                8)                                                                \n",
            "                                                                                                  \n",
            " segm_stage4a_conv (Conv2D)     (None, 64, 64, 128)  294912      ['fpn_stage_p4_add[0][0]']       \n",
            "                                                                                                  \n",
            " segm_stage5a_conv (Conv2D)     (None, 32, 32, 128)  294912      ['fpn_stage_p5_add[0][0]']       \n",
            "                                                                                                  \n",
            " segm_stage2a_conv (Conv2D)     (None, 256, 256, 12  294912      ['fpn_stage_p2_add[0][0]']       \n",
            "                                8)                                                                \n",
            "                                                                                                  \n",
            " segm_stage3a_bn (BatchNormaliz  (None, 128, 128, 12  512        ['segm_stage3a_conv[0][0]']      \n",
            " ation)                         8)                                                                \n",
            "                                                                                                  \n",
            " segm_stage4a_bn (BatchNormaliz  (None, 64, 64, 128)  512        ['segm_stage4a_conv[0][0]']      \n",
            " ation)                                                                                           \n",
            "                                                                                                  \n",
            " segm_stage5a_bn (BatchNormaliz  (None, 32, 32, 128)  512        ['segm_stage5a_conv[0][0]']      \n",
            " ation)                                                                                           \n",
            "                                                                                                  \n",
            " segm_stage2a_bn (BatchNormaliz  (None, 256, 256, 12  512        ['segm_stage2a_conv[0][0]']      \n",
            " ation)                         8)                                                                \n",
            "                                                                                                  \n",
            " segm_stage3a_relu (Activation)  (None, 128, 128, 12  0          ['segm_stage3a_bn[0][0]']        \n",
            "                                8)                                                                \n",
            "                                                                                                  \n",
            " segm_stage4a_relu (Activation)  (None, 64, 64, 128)  0          ['segm_stage4a_bn[0][0]']        \n",
            "                                                                                                  \n",
            " segm_stage5a_relu (Activation)  (None, 32, 32, 128)  0          ['segm_stage5a_bn[0][0]']        \n",
            "                                                                                                  \n",
            " segm_stage2a_relu (Activation)  (None, 256, 256, 12  0          ['segm_stage2a_bn[0][0]']        \n",
            "                                8)                                                                \n",
            "                                                                                                  \n",
            " segm_stage3b_conv (Conv2D)     (None, 128, 128, 12  147456      ['segm_stage3a_relu[0][0]']      \n",
            "                                8)                                                                \n",
            "                                                                                                  \n",
            " segm_stage4b_conv (Conv2D)     (None, 64, 64, 128)  147456      ['segm_stage4a_relu[0][0]']      \n",
            "                                                                                                  \n",
            " segm_stage5b_conv (Conv2D)     (None, 32, 32, 128)  147456      ['segm_stage5a_relu[0][0]']      \n",
            "                                                                                                  \n",
            " segm_stage2b_conv (Conv2D)     (None, 256, 256, 12  147456      ['segm_stage2a_relu[0][0]']      \n",
            "                                8)                                                                \n",
            "                                                                                                  \n",
            " segm_stage3b_bn (BatchNormaliz  (None, 128, 128, 12  512        ['segm_stage3b_conv[0][0]']      \n",
            " ation)                         8)                                                                \n",
            "                                                                                                  \n",
            " segm_stage4b_bn (BatchNormaliz  (None, 64, 64, 128)  512        ['segm_stage4b_conv[0][0]']      \n",
            " ation)                                                                                           \n",
            "                                                                                                  \n",
            " segm_stage5b_bn (BatchNormaliz  (None, 32, 32, 128)  512        ['segm_stage5b_conv[0][0]']      \n",
            " ation)                                                                                           \n",
            "                                                                                                  \n",
            " segm_stage2b_bn (BatchNormaliz  (None, 256, 256, 12  512        ['segm_stage2b_conv[0][0]']      \n",
            " ation)                         8)                                                                \n",
            "                                                                                                  \n",
            " segm_stage3b_relu (Activation)  (None, 128, 128, 12  0          ['segm_stage3b_bn[0][0]']        \n",
            "                                8)                                                                \n",
            "                                                                                                  \n",
            " segm_stage4b_relu (Activation)  (None, 64, 64, 128)  0          ['segm_stage4b_bn[0][0]']        \n",
            "                                                                                                  \n",
            " segm_stage5b_relu (Activation)  (None, 32, 32, 128)  0          ['segm_stage5b_bn[0][0]']        \n",
            "                                                                                                  \n",
            " segm_stage2b_relu (Activation)  (None, 256, 256, 12  0          ['segm_stage2b_bn[0][0]']        \n",
            "                                8)                                                                \n",
            "                                                                                                  \n",
            " upsampling_stage3 (UpSampling2  (None, 256, 256, 12  0          ['segm_stage3b_relu[0][0]']      \n",
            " D)                             8)                                                                \n",
            "                                                                                                  \n",
            " upsampling_stage4 (UpSampling2  (None, 256, 256, 12  0          ['segm_stage4b_relu[0][0]']      \n",
            " D)                             8)                                                                \n",
            "                                                                                                  \n",
            " upsampling_stage5 (UpSampling2  (None, 256, 256, 12  0          ['segm_stage5b_relu[0][0]']      \n",
            " D)                             8)                                                                \n",
            "                                                                                                  \n",
            " aggregation_concat (Concatenat  (None, 256, 256, 51  0          ['segm_stage2b_relu[0][0]',      \n",
            " e)                             2)                                'upsampling_stage3[0][0]',      \n",
            "                                                                  'upsampling_stage4[0][0]',      \n",
            "                                                                  'upsampling_stage5[0][0]']      \n",
            "                                                                                                  \n",
            " final_stage_conv (Conv2D)      (None, 256, 256, 12  589824      ['aggregation_concat[0][0]']     \n",
            "                                8)                                                                \n",
            "                                                                                                  \n",
            " final_stage_bn (BatchNormaliza  (None, 256, 256, 12  512        ['final_stage_conv[0][0]']       \n",
            " tion)                          8)                                                                \n",
            "                                                                                                  \n",
            " final_stage_relu (Activation)  (None, 256, 256, 12  0           ['final_stage_bn[0][0]']         \n",
            "                                8)                                                                \n",
            "                                                                                                  \n",
            " final_upsampling (UpSampling2D  (None, 512, 512, 12  0          ['final_stage_relu[0][0]']       \n",
            " )                              8)                                                                \n",
            "                                                                                                  \n",
            " head_conv (Conv2D)             (None, 512, 512, 1)  1153        ['final_upsampling[0][0]']       \n",
            "                                                                                                  \n",
            " sigmoid (Activation)           (None, 512, 512, 1)  0           ['head_conv[0][0]']              \n",
            "                                                                                                  \n",
            "==================================================================================================\n",
            "Total params: 23,930,954\n",
            "Trainable params: 23,913,284\n",
            "Non-trainable params: 17,670\n",
            "__________________________________________________________________________________________________\n"
          ]
        }
      ]
    },
    {
      "cell_type": "code",
      "source": [
        "import tensorflow as tf\n",
        "tf.test.gpu_device_name()"
      ],
      "metadata": {
        "colab": {
          "base_uri": "https://localhost:8080/",
          "height": 35
        },
        "id": "T6_7xXkVlgu7",
        "outputId": "819d1643-6ed1-4d4a-cf67-2479faff1bd8"
      },
      "execution_count": null,
      "outputs": [
        {
          "output_type": "execute_result",
          "data": {
            "text/plain": [
              "'/device:GPU:0'"
            ],
            "application/vnd.google.colaboratory.intrinsic+json": {
              "type": "string"
            }
          },
          "metadata": {},
          "execution_count": 49
        }
      ]
    },
    {
      "cell_type": "code",
      "source": [
        "# train model\n",
        "history = model.fit_generator(\n",
        "    train_generator, \n",
        "    steps_per_epoch=len(train_generator), \n",
        "    epochs=EPOCHS, \n",
        "    callbacks=callbacks, \n",
        "    validation_data=val_generator, \n",
        "    validation_steps=len(val_generator),\n",
        ")"
      ],
      "metadata": {
        "colab": {
          "base_uri": "https://localhost:8080/"
        },
        "id": "w56g_w3TSYF4",
        "outputId": "5553d859-fb06-44db-ecb9-766573ac9fe3"
      },
      "execution_count": null,
      "outputs": [
        {
          "metadata": {
            "tags": null
          },
          "name": "stdout",
          "output_type": "stream",
          "text": [
            "Epoch 1/30\n"
          ]
        },
        {
          "metadata": {
            "tags": null
          },
          "name": "stderr",
          "output_type": "stream",
          "text": [
            "/usr/local/lib/python3.7/dist-packages/ipykernel_launcher.py:8: UserWarning: `Model.fit_generator` is deprecated and will be removed in a future version. Please use `Model.fit`, which supports generators.\n",
            "  \n"
          ]
        },
        {
          "output_type": "stream",
          "name": "stdout",
          "text": [
            "747/747 [==============================] - 282s 364ms/step - loss: 0.9925 - iou_score: 0.4937 - f1-score: 0.5113 - val_loss: 1.0006 - val_iou_score: 0.6097 - val_f1-score: 0.6097 - lr: 1.0000e-04\n",
            "Epoch 2/30\n",
            "747/747 [==============================] - 272s 364ms/step - loss: 0.9042 - iou_score: 0.5921 - f1-score: 0.6159 - val_loss: 1.0012 - val_iou_score: 0.7140 - val_f1-score: 0.7140 - lr: 1.0000e-04\n",
            "Epoch 3/30\n",
            "747/747 [==============================] - 271s 363ms/step - loss: 0.8570 - iou_score: 0.6447 - f1-score: 0.6706 - val_loss: 1.0021 - val_iou_score: 0.5342 - val_f1-score: 0.5342 - lr: 1.0000e-04\n",
            "Epoch 4/30\n",
            "747/747 [==============================] - 271s 363ms/step - loss: 0.8316 - iou_score: 0.6480 - f1-score: 0.6751 - val_loss: 1.0020 - val_iou_score: 0.6043 - val_f1-score: 0.6043 - lr: 1.0000e-04\n",
            "Epoch 5/30\n",
            "747/747 [==============================] - 272s 365ms/step - loss: 0.8529 - iou_score: 0.7032 - f1-score: 0.7229 - val_loss: 1.0005 - val_iou_score: 0.5998 - val_f1-score: 0.6004 - lr: 1.0000e-04\n",
            "Epoch 6/30\n",
            "747/747 [==============================] - 273s 366ms/step - loss: 0.8332 - iou_score: 0.7162 - f1-score: 0.7343 - val_loss: 0.9981 - val_iou_score: 0.5561 - val_f1-score: 0.5576 - lr: 1.0000e-04\n",
            "Epoch 7/30\n",
            "747/747 [==============================] - 272s 364ms/step - loss: 0.8206 - iou_score: 0.6805 - f1-score: 0.7028 - val_loss: 1.0024 - val_iou_score: 0.6007 - val_f1-score: 0.6007 - lr: 1.0000e-04\n",
            "Epoch 8/30\n",
            "747/747 [==============================] - 272s 364ms/step - loss: 0.8224 - iou_score: 0.6884 - f1-score: 0.7102 - val_loss: 1.0023 - val_iou_score: 0.6187 - val_f1-score: 0.6187 - lr: 1.0000e-04\n",
            "Epoch 9/30\n",
            "747/747 [==============================] - 272s 364ms/step - loss: 0.8223 - iou_score: 0.6687 - f1-score: 0.6890 - val_loss: 1.0023 - val_iou_score: 0.5737 - val_f1-score: 0.5737 - lr: 1.0000e-04\n",
            "Epoch 10/30\n",
            "747/747 [==============================] - 272s 365ms/step - loss: 0.8105 - iou_score: 0.6222 - f1-score: 0.6420 - val_loss: 1.0021 - val_iou_score: 0.5935 - val_f1-score: 0.5936 - lr: 1.0000e-04\n",
            "Epoch 11/30\n",
            "747/747 [==============================] - 273s 365ms/step - loss: 0.5355 - iou_score: 0.7354 - f1-score: 0.7547 - val_loss: 0.3679 - val_iou_score: 0.6385 - val_f1-score: 0.6385 - lr: 1.0000e-04\n",
            "Epoch 12/30\n",
            "747/747 [==============================] - 273s 365ms/step - loss: 0.2588 - iou_score: 0.7390 - f1-score: 0.7477 - val_loss: 0.2840 - val_iou_score: 0.7176 - val_f1-score: 0.7176 - lr: 1.0000e-04\n",
            "Epoch 13/30\n",
            "747/747 [==============================] - 272s 364ms/step - loss: 0.2779 - iou_score: 0.7229 - f1-score: 0.7229 - val_loss: 0.2929 - val_iou_score: 0.7086 - val_f1-score: 0.7086 - lr: 1.0000e-04\n",
            "Epoch 14/30\n",
            "747/747 [==============================] - 272s 364ms/step - loss: 0.2791 - iou_score: 0.7216 - f1-score: 0.7216 - val_loss: 0.2911 - val_iou_score: 0.7104 - val_f1-score: 0.7104 - lr: 1.0000e-04\n",
            "Epoch 15/30\n",
            "747/747 [==============================] - 274s 367ms/step - loss: 0.2858 - iou_score: 0.7149 - f1-score: 0.7149 - val_loss: 0.2803 - val_iou_score: 0.7212 - val_f1-score: 0.7212 - lr: 1.0000e-04\n",
            "Epoch 16/30\n",
            "747/747 [==============================] - 273s 365ms/step - loss: 0.2831 - iou_score: 0.7175 - f1-score: 0.7175 - val_loss: 0.2911 - val_iou_score: 0.7104 - val_f1-score: 0.7104 - lr: 1.0000e-04\n",
            "Epoch 17/30\n",
            "747/747 [==============================] - 273s 366ms/step - loss: 0.2845 - iou_score: 0.7162 - f1-score: 0.7162 - val_loss: 0.2803 - val_iou_score: 0.7212 - val_f1-score: 0.7212 - lr: 1.0000e-04\n",
            "Epoch 18/30\n",
            "747/747 [==============================] - 273s 365ms/step - loss: 0.2912 - iou_score: 0.7095 - f1-score: 0.7095 - val_loss: 0.3055 - val_iou_score: 0.6960 - val_f1-score: 0.6960 - lr: 1.0000e-04\n",
            "Epoch 19/30\n",
            "747/747 [==============================] - 273s 365ms/step - loss: 0.2778 - iou_score: 0.7229 - f1-score: 0.7229 - val_loss: 0.2965 - val_iou_score: 0.7050 - val_f1-score: 0.7050 - lr: 1.0000e-04\n",
            "Epoch 20/30\n",
            "747/747 [==============================] - 272s 364ms/step - loss: 0.2911 - iou_score: 0.7095 - f1-score: 0.7095 - val_loss: 0.3001 - val_iou_score: 0.7014 - val_f1-score: 0.7014 - lr: 1.0000e-04\n",
            "Epoch 21/30\n",
            "747/747 [==============================] - 273s 366ms/step - loss: 0.2831 - iou_score: 0.7175 - f1-score: 0.7175 - val_loss: 0.2785 - val_iou_score: 0.7230 - val_f1-score: 0.7230 - lr: 1.0000e-04\n",
            "Epoch 22/30\n",
            "747/747 [==============================] - 272s 364ms/step - loss: 0.2751 - iou_score: 0.7256 - f1-score: 0.7256 - val_loss: 0.2983 - val_iou_score: 0.7032 - val_f1-score: 0.7032 - lr: 1.0000e-04\n",
            "Epoch 23/30\n",
            "747/747 [==============================] - 273s 365ms/step - loss: 0.2844 - iou_score: 0.7162 - f1-score: 0.7162 - val_loss: 0.2983 - val_iou_score: 0.7032 - val_f1-score: 0.7032 - lr: 1.0000e-04\n",
            "Epoch 24/30\n",
            "747/747 [==============================] - 273s 365ms/step - loss: 0.2844 - iou_score: 0.7162 - f1-score: 0.7162 - val_loss: 0.2929 - val_iou_score: 0.7086 - val_f1-score: 0.7086 - lr: 1.0000e-04\n",
            "Epoch 25/30\n",
            "747/747 [==============================] - 273s 365ms/step - loss: 0.2818 - iou_score: 0.7189 - f1-score: 0.7189 - val_loss: 0.2767 - val_iou_score: 0.7248 - val_f1-score: 0.7248 - lr: 1.0000e-04\n",
            "Epoch 26/30\n",
            "747/747 [==============================] - 273s 365ms/step - loss: 0.2898 - iou_score: 0.7108 - f1-score: 0.7108 - val_loss: 0.2911 - val_iou_score: 0.7104 - val_f1-score: 0.7104 - lr: 1.0000e-04\n",
            "Epoch 27/30\n",
            "747/747 [==============================] - 272s 364ms/step - loss: 0.2804 - iou_score: 0.7202 - f1-score: 0.7202 - val_loss: 0.2911 - val_iou_score: 0.7104 - val_f1-score: 0.7104 - lr: 1.0000e-04\n",
            "Epoch 28/30\n",
            "747/747 [==============================] - 273s 365ms/step - loss: 0.2898 - iou_score: 0.7108 - f1-score: 0.7108 - val_loss: 0.2947 - val_iou_score: 0.7068 - val_f1-score: 0.7068 - lr: 1.0000e-04\n",
            "Epoch 29/30\n",
            "747/747 [==============================] - 273s 365ms/step - loss: 0.2764 - iou_score: 0.7242 - f1-score: 0.7242 - val_loss: 0.2857 - val_iou_score: 0.7158 - val_f1-score: 0.7158 - lr: 1.0000e-04\n",
            "Epoch 30/30\n",
            "747/747 [==============================] - 272s 365ms/step - loss: 0.2911 - iou_score: 0.7095 - f1-score: 0.7095 - val_loss: 0.2929 - val_iou_score: 0.7086 - val_f1-score: 0.7086 - lr: 1.0000e-04\n"
          ]
        }
      ]
    },
    {
      "cell_type": "code",
      "source": [
        "# Plot training & validation iou_score values\n",
        "plt.figure(figsize=(30, 5))\n",
        "plt.subplot(121)\n",
        "plt.plot(history.history['iou_score'])\n",
        "plt.plot(history.history['val_iou_score'])\n",
        "plt.title('Model iou_score')\n",
        "plt.ylabel('iou_score')\n",
        "plt.xlabel('Epoch')\n",
        "plt.legend(['Train', 'Val'], loc='upper left')\n",
        "\n",
        "# Plot training & validation loss values\n",
        "plt.subplot(122)\n",
        "plt.plot(history.history['loss'])\n",
        "plt.plot(history.history['val_loss'])\n",
        "plt.title('Model loss')\n",
        "plt.ylabel('Loss')\n",
        "plt.xlabel('Epoch')\n",
        "plt.legend(['Train', 'Val'], loc='upper left')\n",
        "plt.show()"
      ],
      "metadata": {
        "colab": {
          "base_uri": "https://localhost:8080/",
          "height": 292
        },
        "id": "s-cocDwXSYC8",
        "outputId": "3dec3355-2378-485e-bcd5-b8a73c3eec93"
      },
      "execution_count": null,
      "outputs": [
        {
          "output_type": "display_data",
          "data": {
            "text/plain": [
              "<Figure size 2160x360 with 2 Axes>"
            ],
            "image/png": "[encoded data removed]"
          },
          "metadata": {
            "needs_background": "light"
          }
        }
      ]
    },
    {
      "cell_type": "markdown",
      "source": [
        "## Model Evaluation"
      ],
      "metadata": {
        "id": "kXrwIUJI6oNF"
      }
    },
    {
      "cell_type": "code",
      "source": [
        "test_dataloader = DataGenerator(test_set, batch_size=1, shuffle=False)\n",
        "# load best weights\n",
        "model.load_weights('best_model.h5') \n",
        "scores = model.evaluate_generator(test_dataloader)"
      ],
      "metadata": {
        "colab": {
          "base_uri": "https://localhost:8080/"
        },
        "id": "jZQUGQE1SYAK",
        "outputId": "b4d76c4b-fbcd-4436-e777-1c90ab58e185"
      },
      "execution_count": null,
      "outputs": [
        {
          "output_type": "stream",
          "name": "stderr",
          "text": [
            "/usr/local/lib/python3.7/dist-packages/ipykernel_launcher.py:4: UserWarning: `Model.evaluate_generator` is deprecated and will be removed in a future version. Please use `Model.evaluate`, which supports generators.\n",
            "  after removing the cwd from sys.path.\n"
          ]
        }
      ]
    },
    {
      "cell_type": "code",
      "source": [
        "print(\"Loss: {:.5}\".format(scores[0]))\n",
        "for metric, value in zip(metrics, scores[1:]):\n",
        "    print(\"mean {}: {:.5}\".format(metric.__name__, value))"
      ],
      "metadata": {
        "colab": {
          "base_uri": "https://localhost:8080/"
        },
        "id": "qA_Qa_tbSX9a",
        "outputId": "478bdb93-43de-4c62-878c-0099d58051f8"
      },
      "execution_count": null,
      "outputs": [
        {
          "output_type": "stream",
          "name": "stdout",
          "text": [
            "Loss: 0.050442\n",
            "mean iou_score: 0.94967\n",
            "mean f1-score: 0.94967\n"
          ]
        }
      ]
    },
    {
      "cell_type": "code",
      "source": [
        "scores = model.evaluate_generator(test_generator)\n",
        "\n",
        "print(\"Loss: {:.5}\".format(scores[0]))\n",
        "for metric, value in zip(metrics, scores[1:]):\n",
        "    print(\"mean {}: {:.5}\".format(metric.__name__, value))"
      ],
      "metadata": {
        "id": "7SyIepvwGyHP",
        "colab": {
          "base_uri": "https://localhost:8080/"
        },
        "outputId": "8d4328cb-3509-47cf-d1e1-02fffd897569"
      },
      "execution_count": 32,
      "outputs": [
        {
          "output_type": "stream",
          "name": "stderr",
          "text": [
            "/usr/local/lib/python3.7/dist-packages/ipykernel_launcher.py:1: UserWarning: `Model.evaluate_generator` is deprecated and will be removed in a future version. Please use `Model.evaluate`, which supports generators.\n",
            "  \"\"\"Entry point for launching an IPython kernel.\n"
          ]
        },
        {
          "output_type": "stream",
          "name": "stdout",
          "text": [
            "Loss: 0.18628\n",
            "mean iou_score: 0.81383\n",
            "mean f1-score: 0.81383\n"
          ]
        }
      ]
    },
    {
      "cell_type": "code",
      "source": [
        ""
      ],
      "metadata": {
        "id": "KdtmNSkw-mym"
      },
      "execution_count": null,
      "outputs": []
    },
    {
      "cell_type": "code",
      "source": [
        "test_preds = model.predict(test_generator)"
      ],
      "metadata": {
        "id": "TcLviQ8k-sZf"
      },
      "execution_count": 43,
      "outputs": []
    },
    {
      "cell_type": "code",
      "source": [
        "for i in range(5):\n",
        "  a = np.squeeze(test_preds[i], axis=2)\n",
        "  plt.imshow(a, cmap='gray')\n",
        "  plt.show()"
      ],
      "metadata": {
        "id": "EQLpuNae_ii6"
      },
      "execution_count": null,
      "outputs": []
    }
  ]
}